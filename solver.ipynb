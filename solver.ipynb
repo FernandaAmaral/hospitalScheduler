{
 "cells": [
  {
   "cell_type": "code",
   "execution_count": null,
   "metadata": {},
   "outputs": [],
   "source": [
    "from ortools.linear_solver import pywraplp\n",
    "from datetime import datetime, date\n",
    "import pandas as pd\n",
    "import calendar\n",
    "\n",
    "solver = pywraplp.Solver(\"Mixed Integer Programming\", pywraplp.Solver.CBC_MIXED_INTEGER_PROGRAMMING)"
   ]
  },
  {
   "cell_type": "markdown",
   "metadata": {},
   "source": [
    "# Variáveis do problema"
   ]
  },
  {
   "cell_type": "markdown",
   "metadata": {},
   "source": [
    "## 1. Data"
   ]
  },
  {
   "cell_type": "code",
   "execution_count": null,
   "metadata": {},
   "outputs": [
    {
     "name": "stdout",
     "output_type": "stream",
     "text": [
      "5\n"
     ]
    }
   ],
   "source": [
    "# Índice do mês da escala a ser montada (1-12)\n",
    "month_idx = 11\n",
    "\n",
    "# Pegando o número de dias e a lista com os índices do dia da semana correspondente\n",
    "now = datetime.now()\n",
    "n_days = calendar.monthrange(now.year, month_idx)[1]\n",
    "weekdays  = [date(now.year, month_idx, d).weekday() for d in range(1, n_days + 1)]\n",
    "first_weekday = weekdays[0]\n",
    "\n",
    "# Printando o número de semanas existente no mês (necessário para a lista da enfermaria)\n",
    "n_weeks = len(calendar.monthcalendar(now.year, month_idx))\n",
    "print(n_weeks)\n",
    "\n",
    "# Carga horária semanal máxima de trabalho por residente\n",
    "max_workload = 120"
   ]
  },
  {
   "cell_type": "markdown",
   "metadata": {},
   "source": [
    "## 2. Residentes"
   ]
  },
  {
   "cell_type": "code",
   "execution_count": null,
   "metadata": {},
   "outputs": [],
   "source": [
    "residents = [\n",
    "    { \"idx\": 0, \"name\": \"André\", \"type\": \"R1\" },\n",
    "    { \"idx\": 1, \"name\": \"Maria\", \"type\": \"R1\" },\n",
    "    { \"idx\": 2, \"name\": \"Cinthya\", \"type\": \"R1\" },\n",
    "    { \"idx\": 3, \"name\": \"Rolando\", \"type\": \"R1\" },\n",
    "    { \"idx\": 4, \"name\": \"Victor\", \"type\": \"R1\" },\n",
    "    { \"idx\": 5, \"name\": \"Lucas\", \"type\": \"R2\" },\n",
    "    { \"idx\": 6, \"name\": \"Giselia\", \"type\": \"R2\" },\n",
    "    { \"idx\": 7, \"name\": \"Pedro\", \"type\": \"R2\" },\n",
    "    { \"idx\": 8, \"name\": \"Bárbara\", \"type\": \"R2\" },\n",
    "    { \"idx\": 9, \"name\": \"Douglas\", \"type\": \"R2\" },\n",
    "    { \"idx\": 10, \"name\": \"Filipe\", \"type\": \"R3\" },\n",
    "    { \"idx\": 11, \"name\": \"Berbem\", \"type\": \"R2_HFA\" },\n",
    "    { \"idx\": 12, \"name\": \"Douglas HFA\", \"type\": \"R2_HFA\" },\n",
    "    { \"idx\": 13, \"name\": \"Vitória HFA\", \"type\": \"R1_HFA\" },\n",
    "]\n",
    "\n",
    "n_res = len(residents)\n",
    "\n",
    "# Tipos de residente para a métrica de justiça\n",
    "# (residentes do HFA não entram)\n",
    "res_types= ['R1', 'R2', 'R3']\n",
    "n_types = len(res_types)"
   ]
  },
  {
   "cell_type": "markdown",
   "metadata": {},
   "source": [
    "### 2.1 Lista de R1s responsáveis por cada semana da enfermaria"
   ]
  },
  {
   "cell_type": "code",
   "execution_count": null,
   "metadata": {},
   "outputs": [
    {
     "data": {
      "text/plain": [
       "[{'idx': 0, 'name': 'André', 'type': 'R1'},\n",
       " {'idx': 1, 'name': 'Maria', 'type': 'R1'},\n",
       " {'idx': 2, 'name': 'Cinthya', 'type': 'R1'},\n",
       " {'idx': 3, 'name': 'Rolando', 'type': 'R1'},\n",
       " {'idx': 4, 'name': 'Victor', 'type': 'R1'}]"
      ]
     },
     "execution_count": 120,
     "metadata": {},
     "output_type": "execute_result"
    }
   ],
   "source": [
    "enf_list = ['André', 'Maria', 'Cinthya', 'Rolando', 'Victor']\n",
    "enf_list = [r for r in residents if r['name'] in enf_list]\n",
    "enf_list"
   ]
  },
  {
   "cell_type": "markdown",
   "metadata": {},
   "source": [
    "## 3. Plantões"
   ]
  },
  {
   "cell_type": "code",
   "execution_count": null,
   "metadata": {},
   "outputs": [],
   "source": [
    "shifts = [\n",
    "    { \"idx\": 0, \"name\": \"HRC_dia\", \"start_time\": 7, \"end_time\": 19, \"frequency\": [1,1,1,1,1,1,1], \"num_res\": 2 },\n",
    "    { \"idx\": 1, \"name\": \"HRC_noite\", \"start_time\": 19, \"end_time\": 7, \"frequency\": [1,1,1,1,1,1,1], \"num_res\": 2 },\n",
    "    { \"idx\": 2, \"name\": \"ENF\", \"start_time\": 7, \"end_time\": 19, \"frequency\": [1,1,1,1,1,1,1], \"num_res\": 2 },\n",
    "    { \"idx\": 3, \"name\": \"CC\", \"start_time\": 7, \"end_time\": 19, \"frequency\": [1,1,1,1,1,0,0], \"num_res\": 2 },\n",
    "    { \"idx\": 4, \"name\": \"HRSam\", \"start_time\": 19, \"end_time\": 24, \"frequency\": [1,1,1,0,0,0,0], \"num_res\": 2 },\n",
    "    { \"idx\": 5, \"name\": \"Amb\", \"start_time\": 7, \"end_time\": 19, \"frequency\": [1,1,1,1,1,0,0], \"num_res\": 1 },\n",
    "]\n",
    "\n",
    "n_shifts = len(shifts)"
   ]
  },
  {
   "cell_type": "markdown",
   "metadata": {},
   "source": [
    "## 4. Matriz de choque de horário"
   ]
  },
  {
   "cell_type": "code",
   "execution_count": null,
   "metadata": {},
   "outputs": [
    {
     "data": {
      "text/plain": [
       "[[1, 0, 1, 1, 0, 1],\n",
       " [0, 1, 0, 0, 1, 0],\n",
       " [1, 0, 1, 1, 0, 1],\n",
       " [1, 0, 1, 1, 0, 1],\n",
       " [0, 1, 0, 0, 1, 0],\n",
       " [1, 0, 1, 1, 0, 1]]"
      ]
     },
     "execution_count": 122,
     "metadata": {},
     "output_type": "execute_result"
    }
   ],
   "source": [
    "def convert_date(hour, day=1):\n",
    "    return datetime.now().replace(day=day, hour=hour-1, minute=0, second=0, microsecond=0)\n",
    "\n",
    "def get_time(shift):\n",
    "    start = shift['start_time']\n",
    "    end = shift['end_time']\n",
    "    if end < start:\n",
    "        return convert_date(start), convert_date(end, 2)\n",
    "    return convert_date(start), convert_date(end)\n",
    "\n",
    "def check_overlap(s1, s2):\n",
    "    start1, end1 = get_time(s1)\n",
    "    start2, end2 = get_time(s2)\n",
    "    if end1 > start2 and end2 > start1:\n",
    "        return 1\n",
    "\n",
    "    return 0\n",
    "\n",
    "overlaps = [[check_overlap(s1, s2) for s1 in shifts] for s2 in shifts]\n",
    "overlaps"
   ]
  },
  {
   "cell_type": "code",
   "execution_count": null,
   "metadata": {},
   "outputs": [],
   "source": [
    "for i, shift in enumerate(shifts):\n",
    "    start, end = get_time(shift)\n",
    "    shifts[i]['workload'] = (end - start).seconds//3600"
   ]
  },
  {
   "cell_type": "markdown",
   "metadata": {},
   "source": [
    "## Variáveis de decisão"
   ]
  },
  {
   "cell_type": "code",
   "execution_count": null,
   "metadata": {},
   "outputs": [],
   "source": [
    "# Variável binária que guarda a escala do mês\n",
    "# r: residente\n",
    "# s: plantão\n",
    "# d: dia do mês\n",
    "Xrsd = [[[solver.BoolVar(f'X{r}_{s}_{d}') for d in range(n_days)] for s in range(n_shifts)] for r in range(n_res)]\n",
    "\n",
    "# Variável que guarda a carga horária semanal de cada residente\n",
    "# r: residente\n",
    "# w: semana\n",
    "Hrw = [[solver.NumVar(0, max_workload, f'H{r}_{w}') for w in range(n_weeks)] for r in range(n_res)]\n",
    "\n",
    "# Somatório da carga horária semanal de todos os residentes por semana para cada tipo de residente\n",
    "# t: tipo de residente\n",
    "# w: semana\n",
    "Stw = [[solver.NumVar(0, solver.infinity(), f'S{t}_{w}') for w in range(n_weeks)] for t in range(n_types)]"
   ]
  },
  {
   "cell_type": "markdown",
   "metadata": {},
   "source": [
    "# Ligando variáveis de decisão"
   ]
  },
  {
   "cell_type": "code",
   "execution_count": null,
   "metadata": {},
   "outputs": [],
   "source": [
    "# Carga horária semanal por residente -> Hrw\n",
    "for r, resident in enumerate(residents):\n",
    "    week_counter = 0\n",
    "    for d, weekday in enumerate(weekdays):\n",
    "        if weekday == first_weekday:\n",
    "            ct = solver.Constraint(0, 0, f\"workload - resident {resident['name']} - week {week_counter}\")\n",
    "            ct.SetCoefficient(Hrw[r][week_counter], -1)\n",
    "            week_counter += 1\n",
    "\n",
    "        for s, shift in enumerate(shifts):\n",
    "            ct.SetCoefficient(Xrsd[r][s][d], shift['workload'])"
   ]
  },
  {
   "cell_type": "code",
   "execution_count": null,
   "metadata": {},
   "outputs": [],
   "source": [
    "# Somatório da carga horária semanal dos residentes por semana -> Stw\n",
    "for w in range(n_weeks):\n",
    "    for t in range(n_types):\n",
    "        res_list = [r for r in residents if r['type'] == res_types[t]]\n",
    "        ct = solver.Constraint(0,0, f\"Workload sum - week {w} - res_type {t}\")\n",
    "        ct.SetCoefficient(Stw[t][w], -1)\n",
    "        for res in res_list:\n",
    "            ct.SetCoefficient(Hrw[res['idx']][w], 1)"
   ]
  },
  {
   "cell_type": "markdown",
   "metadata": {},
   "source": [
    "# Métrica de justiça de carga horária"
   ]
  },
  {
   "cell_type": "code",
   "execution_count": null,
   "metadata": {},
   "outputs": [],
   "source": [
    "precision = 0.1\n",
    "\n",
    "for w in range(n_weeks):\n",
    "    for t in range(n_types):\n",
    "        res_list = [r for r in residents if r['type'] == res_types[t]]\n",
    "        N = len(res_list)\n",
    "        for res in res_list:\n",
    "            # Limites superiores\n",
    "            ct_upper = solver.Constraint(-solver.infinity(), 0, f\"Upper limit - week {w} - res_type {t} - resident {res['idx']}: {res['name']}\")\n",
    "            ct_upper.SetCoefficient(Hrw[res['idx']][w], N)\n",
    "            ct_upper.SetCoefficient(Stw[t][w], -(1+precision))\n",
    "\n",
    "            # Limites inferiores\n",
    "            ct_lower = solver.Constraint(0, solver.infinity(), f\"Lower limit - week {w} - res_type {t} - resident {res['idx']}: {res['name']}\")\n",
    "            ct_lower.SetCoefficient(Hrw[res['idx']][w], N)\n",
    "            ct_lower.SetCoefficient(Stw[t][w], -(1-precision))"
   ]
  },
  {
   "cell_type": "markdown",
   "metadata": {},
   "source": [
    "# Restrições\n",
    "## 1. Garantir que tenha o número de residentes necessário em cada plantão"
   ]
  },
  {
   "cell_type": "code",
   "execution_count": null,
   "metadata": {},
   "outputs": [],
   "source": [
    "for s, shift in enumerate(shifts):\n",
    "    for d, weekday in enumerate(weekdays):\n",
    "\n",
    "        # Find the number of residents depending on weekday\n",
    "        num_res = 0\n",
    "        if shift['frequency'][weekday]:\n",
    "            num_res = shift['num_res']\n",
    "\n",
    "        ct = solver.Constraint(num_res, num_res, f\"Day {d + 1} - {num_res} residents in {shift['name']}\")\n",
    "        soma = \"\"\n",
    "        for r in range(n_res):\n",
    "            ct.SetCoefficient(Xrsd[r][s][d], 1)"
   ]
  },
  {
   "cell_type": "markdown",
   "metadata": {},
   "source": [
    "## 2. Garantir que não haja choque de horário na escala"
   ]
  },
  {
   "cell_type": "code",
   "execution_count": null,
   "metadata": {},
   "outputs": [],
   "source": [
    "for d in range(n_days):\n",
    "    for r, resident in enumerate(residents):\n",
    "        for shift_idx, shift in enumerate(shifts):\n",
    "            ct = solver.Constraint(0, 1, f\"No time overlap in day {d + 1} for resident {resident['name']} - Shift {shift['name']}\")\n",
    "            for s, overlap in enumerate(overlaps[shift_idx]):\n",
    "                ct.SetCoefficient(Xrsd[r][s][d], overlap)"
   ]
  },
  {
   "cell_type": "markdown",
   "metadata": {},
   "source": [
    "## 3. Ambulatório só tem R1"
   ]
  },
  {
   "cell_type": "code",
   "execution_count": null,
   "metadata": {},
   "outputs": [],
   "source": [
    "s = 5\n",
    "shift = shifts[s]\n",
    "r_mais = [res for res in residents if res['type'] in [\"R2\", \"R3\", \"R2_HFA\"]]\n",
    "\n",
    "for d in range(n_days):\n",
    "    for resident in r_mais:\n",
    "        r = resident['idx']\n",
    "        ct = solver.Constraint(0, 0, f\"No r+ in ambulatory - day {d + 1} - resident {resident['name']}\")\n",
    "        ct.SetCoefficient(Xrsd[r][s][d], 1)"
   ]
  },
  {
   "cell_type": "markdown",
   "metadata": {},
   "source": [
    "## 4. HRC_dia/noite, HRSam, ENF e CC precisa de um R1 e um R2/R3 por turno"
   ]
  },
  {
   "cell_type": "code",
   "execution_count": null,
   "metadata": {},
   "outputs": [],
   "source": [
    "for d in range(n_days):\n",
    "    for s, shift in enumerate(shifts[:-1]):\n",
    "        ct = solver.Constraint(0, 0, f\"R1+R2/R3 in day {d + 1} - shift {shift['name']}\")\n",
    "        for r, resident in enumerate(residents):\n",
    "            is_r1 = 1 if resident['type'] in ['R1', 'R1_HFA'] else -1\n",
    "            ct.SetCoefficient(Xrsd[r][s][d], is_r1)"
   ]
  },
  {
   "cell_type": "markdown",
   "metadata": {},
   "source": [
    "## 5. Residentes do HFA só fazem HRC noite/dia -> terça, quinta ou domingo"
   ]
  },
  {
   "cell_type": "code",
   "execution_count": null,
   "metadata": {},
   "outputs": [],
   "source": [
    "hfa_shifts = ['HRC_noite']\n",
    "non_hfa_shifts = [shift for shift in shifts if shift['name'] not in hfa_shifts]\n",
    "hfa_res = [res for res in residents if res['type'] in [\"R1_HFA\", \"R2_HFA\"]]\n",
    "non_hfa_weekdays = [0, 2, 4, 5]\n",
    "\n",
    "for d, weekday in enumerate(weekdays):\n",
    "    if weekday in non_hfa_weekdays:\n",
    "        for shift in shifts:\n",
    "            for res in hfa_res:\n",
    "                ct = solver.Constraint(\n",
    "                    0, 0, f\"No HFA in weekday {weekday} - shift {shift['name']} - day {d + 1} - resident {res['idx']}: {res['name']}\")\n",
    "                ct.SetCoefficient(Xrsd[res['idx']][shift['idx']][d], 1)\n",
    "\n",
    "    for shift in non_hfa_shifts:\n",
    "        for res in hfa_res:\n",
    "            ct = solver.Constraint(\n",
    "                0, 0, f\"No HFA in shift {shift['name']} - day {d + 1} - resident {res['idx']}: {res['name']}\")\n",
    "            ct.SetCoefficient(Xrsd[res['idx']][shift['idx']][d], 1)\n"
   ]
  },
  {
   "cell_type": "markdown",
   "metadata": {},
   "source": [
    "## 6. R3 faz HRC_dia ou CC 1x por semana cada"
   ]
  },
  {
   "cell_type": "code",
   "execution_count": null,
   "metadata": {},
   "outputs": [],
   "source": [
    "r3_shifts = [shifts[i] for i in [0, 3]]\n",
    "r3_list = [res for res in residents if res['type']  == \"R3\"]\n",
    "\n",
    "for resident in r3_list:\n",
    "    r = resident['idx']\n",
    "    for shift in r3_shifts:\n",
    "        s = shift['idx']\n",
    "        week_counter = 0\n",
    "        for d, weekday in enumerate(weekdays):\n",
    "            if weekday == first_weekday:\n",
    "                week_counter += 1\n",
    "                ct = solver.Constraint(1, 1, f\"R3 {resident['name']} working once in shift {shift['name']} - week {week_counter}\")\n",
    "            ct.SetCoefficient(Xrsd[r][s][d], 1)"
   ]
  },
  {
   "cell_type": "markdown",
   "metadata": {},
   "source": [
    "## 7. R3 não faz parte dos demais plantões (HRC_noite, amb, enf, hrsam)"
   ]
  },
  {
   "cell_type": "code",
   "execution_count": null,
   "metadata": {},
   "outputs": [],
   "source": [
    "not_r3_shifts = [shifts[i] for i in [1, 2, 4, 5]]\n",
    "\n",
    "ct = solver.Constraint(0, 0, f\"R3 residents doesnt work in other shifts\")\n",
    "for resident in r3_list:\n",
    "    r = resident['idx']\n",
    "    for shift in not_r3_shifts:\n",
    "        s = shift['idx']\n",
    "        for d in range(n_days):\n",
    "            ct.SetCoefficient(Xrsd[r][s][d], 1)"
   ]
  },
  {
   "cell_type": "markdown",
   "metadata": {},
   "source": [
    "## 8. O R1 fica a semana toda na enfermaria"
   ]
  },
  {
   "cell_type": "code",
   "execution_count": null,
   "metadata": {},
   "outputs": [],
   "source": [
    "week_counter = 0\n",
    "s = 2  # ENF\n",
    "\n",
    "for d, weekday in enumerate(weekdays):\n",
    "    if weekday == first_weekday:\n",
    "        resident = enf_list[week_counter]\n",
    "        r = resident['idx']\n",
    "        week_counter += 1\n",
    "    ct = solver.Constraint(1, 1, f\"R1 {resident['name']} working on ENF - week {week_counter + 1} - day {d}\")\n",
    "    ct.SetCoefficient(Xrsd[r][s][d], 1)"
   ]
  },
  {
   "cell_type": "markdown",
   "metadata": {},
   "source": [
    "## Função objetivo"
   ]
  },
  {
   "cell_type": "code",
   "execution_count": null,
   "metadata": {},
   "outputs": [],
   "source": [
    "objective = solver.Objective()\n",
    "\n",
    "for t in range(n_types):\n",
    "    for w in range(n_weeks):\n",
    "        objective.SetCoefficient(Stw[t][w], 1)\n",
    "\n",
    "objective.SetMinimization()"
   ]
  },
  {
   "cell_type": "code",
   "execution_count": null,
   "metadata": {},
   "outputs": [
    {
     "data": {
      "text/plain": [
       "4082"
      ]
     },
     "execution_count": 137,
     "metadata": {},
     "output_type": "execute_result"
    }
   ],
   "source": [
    "solver.NumConstraints()"
   ]
  },
  {
   "cell_type": "code",
   "execution_count": null,
   "metadata": {},
   "outputs": [],
   "source": [
    "status = solver.Solve()\n",
    "\n",
    "if status == pywraplp.Solver.OPTIMAL:\n",
    "    print('OTIMA')"
   ]
  },
  {
   "cell_type": "code",
   "execution_count": null,
   "metadata": {},
   "outputs": [
    {
     "name": "stdout",
     "output_type": "stream",
     "text": [
      "Filipe\n",
      "DIA 5 - CC\n",
      "DIA 7 - HRC_dia\n",
      "DIA 11 - CC\n",
      "DIA 13 - HRC_dia\n",
      "DIA 16 - CC\n",
      "DIA 17 - HRC_dia\n",
      "DIA 23 - HRC_dia\n",
      "DIA 24 - CC\n",
      "DIA 29 - HRC_dia\n",
      "DIA 30 - CC\n"
     ]
    }
   ],
   "source": [
    "if status == pywraplp.Solver.OPTIMAL:\n",
    "    r = 10\n",
    "    resident = residents[r]\n",
    "\n",
    "    # for r, resident in enumerate(residents):\n",
    "    print(resident['name'])\n",
    "\n",
    "    for d in range(n_days):\n",
    "        for s, shift in enumerate(shifts[:-1]):\n",
    "            if round(Xrsd[r][s][d].solution_value(), 0):\n",
    "                print(f\"DIA {d + 1} - {shift['name']}\")"
   ]
  },
  {
   "cell_type": "code",
   "execution_count": null,
   "metadata": {},
   "outputs": [
    {
     "name": "stdout",
     "output_type": "stream",
     "text": [
      "\n",
      "RESIDENTE André\n",
      "Semana 1: 101.0\n",
      "Semana 2: 89.0\n",
      "Semana 3: 60.0\n",
      "Semana 4: 48.0\n",
      "Semana 5: 12.0\n",
      "\n",
      "RESIDENTE Maria\n",
      "Semana 1: 65.0\n",
      "Semana 2: 89.0\n",
      "Semana 3: 48.0\n",
      "Semana 4: 60.0\n",
      "Semana 5: 29.0\n",
      "\n",
      "RESIDENTE Cinthya\n",
      "Semana 1: 84.0\n",
      "Semana 2: 48.0\n",
      "Semana 3: 101.0\n",
      "Semana 4: 82.0\n",
      "Semana 5: 29.0\n",
      "\n",
      "RESIDENTE Rolando\n",
      "Semana 1: 60.0\n",
      "Semana 2: 48.0\n",
      "Semana 3: 89.0\n",
      "Semana 4: 96.0\n",
      "Semana 5: 24.0\n",
      "\n",
      "RESIDENTE Victor\n",
      "Semana 1: 41.0\n",
      "Semana 2: 77.0\n",
      "Semana 3: 53.0\n",
      "Semana 4: 65.0\n",
      "Semana 5: 24.0\n",
      "\n",
      "RESIDENTE Lucas\n",
      "Semana 1: 65.0\n",
      "Semana 2: 36.0\n",
      "Semana 3: 77.0\n",
      "Semana 4: 53.0\n",
      "Semana 5: 12.0\n",
      "\n",
      "RESIDENTE Giselia\n",
      "Semana 1: 53.0\n",
      "Semana 2: 60.0\n",
      "Semana 3: 29.0\n",
      "Semana 4: 48.0\n",
      "Semana 5: 12.0\n",
      "\n",
      "RESIDENTE Pedro\n",
      "Semana 1: 36.0\n",
      "Semana 2: 60.0\n",
      "Semana 3: 36.0\n",
      "Semana 4: 58.0\n",
      "Semana 5: 12.0\n",
      "\n",
      "RESIDENTE Bárbara\n",
      "Semana 1: 60.0\n",
      "Semana 2: 53.0\n",
      "Semana 3: 65.0\n",
      "Semana 4: 36.0\n",
      "Semana 5: 17.0\n",
      "\n",
      "RESIDENTE Douglas\n",
      "Semana 1: 53.0\n",
      "Semana 2: 58.0\n",
      "Semana 3: 60.0\n",
      "Semana 4: 72.0\n",
      "Semana 5: 17.0\n",
      "\n",
      "RESIDENTE Filipe\n",
      "Semana 1: 24.0\n",
      "Semana 2: 24.0\n",
      "Semana 3: 24.0\n",
      "Semana 4: 24.0\n",
      "Semana 5: 24.0\n",
      "\n",
      "RESIDENTE Berbem\n",
      "Semana 1: 12.0\n",
      "Semana 2: 0.0\n",
      "Semana 3: 24.0\n",
      "Semana 4: 12.0\n",
      "Semana 5: 12.0\n",
      "\n",
      "RESIDENTE Douglas HFA\n",
      "Semana 1: 24.0\n",
      "Semana 2: 36.0\n",
      "Semana 3: 12.0\n",
      "Semana 4: 24.0\n",
      "Semana 5: 0.0\n",
      "\n",
      "RESIDENTE Vitória HFA\n",
      "Semana 1: 36.0\n",
      "Semana 2: 36.0\n",
      "Semana 3: 36.0\n",
      "Semana 4: 36.0\n",
      "Semana 5: 12.0\n"
     ]
    }
   ],
   "source": [
    "if status == pywraplp.Solver.OPTIMAL:\n",
    "    for r, resident in enumerate(residents):\n",
    "        print(f\"\\nRESIDENTE {resident['name']}\")\n",
    "        for w in range(n_weeks):\n",
    "            print(f\"Semana {w + 1}: {round(Hrw[r][w].solution_value(), 0)}\")"
   ]
  },
  {
   "cell_type": "code",
   "execution_count": null,
   "metadata": {},
   "outputs": [],
   "source": [
    "if status == pywraplp.Solver.OPTIMAL:\n",
    "    schedule = []\n",
    "\n",
    "    for d, weekday in enumerate(weekdays):\n",
    "        day_schedule = []\n",
    "        for s, shift in enumerate(shifts):\n",
    "            res_list = []\n",
    "            for r, resident in enumerate(residents):\n",
    "                if round(Xrsd[r][s][d].solution_value(), 0):\n",
    "                    res_list.append(resident['name'])\n",
    "            day_schedule.append(', '.join(res_list))\n",
    "        schedule.append(day_schedule)"
   ]
  },
  {
   "cell_type": "code",
   "execution_count": null,
   "metadata": {},
   "outputs": [
    {
     "data": {
      "text/html": [
       "<div>\n",
       "<style scoped>\n",
       "    .dataframe tbody tr th:only-of-type {\n",
       "        vertical-align: middle;\n",
       "    }\n",
       "\n",
       "    .dataframe tbody tr th {\n",
       "        vertical-align: top;\n",
       "    }\n",
       "\n",
       "    .dataframe thead th {\n",
       "        text-align: right;\n",
       "    }\n",
       "</style>\n",
       "<table border=\"1\" class=\"dataframe\">\n",
       "  <thead>\n",
       "    <tr style=\"text-align: right;\">\n",
       "      <th></th>\n",
       "      <th>HRC_dia</th>\n",
       "      <th>HRC_noite</th>\n",
       "      <th>ENF</th>\n",
       "      <th>CC</th>\n",
       "      <th>HRSam</th>\n",
       "      <th>Amb</th>\n",
       "    </tr>\n",
       "  </thead>\n",
       "  <tbody>\n",
       "    <tr>\n",
       "      <th>1/11</th>\n",
       "      <td>Maria, Lucas</td>\n",
       "      <td>André, Pedro</td>\n",
       "      <td>André, Bárbara</td>\n",
       "      <td>Rolando, Douglas</td>\n",
       "      <td>Maria, Douglas</td>\n",
       "      <td>Cinthya</td>\n",
       "    </tr>\n",
       "    <tr>\n",
       "      <th>2/11</th>\n",
       "      <td>Maria, Douglas</td>\n",
       "      <td>Berbem, Vitória HFA</td>\n",
       "      <td>André, Pedro</td>\n",
       "      <td>Victor, Bárbara</td>\n",
       "      <td>André, Giselia</td>\n",
       "      <td>Rolando</td>\n",
       "    </tr>\n",
       "    <tr>\n",
       "      <th>3/11</th>\n",
       "      <td>Cinthya, Bárbara</td>\n",
       "      <td>Maria, Bárbara</td>\n",
       "      <td>André, Lucas</td>\n",
       "      <td>Maria, Giselia</td>\n",
       "      <td>Victor, Lucas</td>\n",
       "      <td>Rolando</td>\n",
       "    </tr>\n",
       "    <tr>\n",
       "      <th>4/11</th>\n",
       "      <td>Cinthya, Bárbara</td>\n",
       "      <td>Douglas HFA, Vitória HFA</td>\n",
       "      <td>André, Douglas</td>\n",
       "      <td>Maria, Lucas</td>\n",
       "      <td></td>\n",
       "      <td>Rolando</td>\n",
       "    </tr>\n",
       "    <tr>\n",
       "      <th>5/11</th>\n",
       "      <td>Victor, Lucas</td>\n",
       "      <td>Cinthya, Giselia</td>\n",
       "      <td>André, Giselia</td>\n",
       "      <td>Cinthya, Filipe</td>\n",
       "      <td></td>\n",
       "      <td>Rolando</td>\n",
       "    </tr>\n",
       "    <tr>\n",
       "      <th>6/11</th>\n",
       "      <td>Victor, Giselia</td>\n",
       "      <td>Cinthya, Lucas</td>\n",
       "      <td>André, Pedro</td>\n",
       "      <td></td>\n",
       "      <td></td>\n",
       "      <td></td>\n",
       "    </tr>\n",
       "    <tr>\n",
       "      <th>7/11</th>\n",
       "      <td>Cinthya, Filipe</td>\n",
       "      <td>Douglas HFA, Vitória HFA</td>\n",
       "      <td>André, Douglas</td>\n",
       "      <td></td>\n",
       "      <td></td>\n",
       "      <td></td>\n",
       "    </tr>\n",
       "    <tr>\n",
       "      <th>8/11</th>\n",
       "      <td>Cinthya, Bárbara</td>\n",
       "      <td>Victor, Pedro</td>\n",
       "      <td>Maria, Lucas</td>\n",
       "      <td>André, Giselia</td>\n",
       "      <td>Maria, Douglas</td>\n",
       "      <td>Victor</td>\n",
       "    </tr>\n",
       "    <tr>\n",
       "      <th>9/11</th>\n",
       "      <td>Rolando, Lucas</td>\n",
       "      <td>Douglas HFA, Vitória HFA</td>\n",
       "      <td>Maria, Giselia</td>\n",
       "      <td>André, Pedro</td>\n",
       "      <td>André, Douglas</td>\n",
       "      <td>Victor</td>\n",
       "    </tr>\n",
       "    <tr>\n",
       "      <th>10/11</th>\n",
       "      <td>Cinthya, Lucas</td>\n",
       "      <td>André, Douglas</td>\n",
       "      <td>Maria, Pedro</td>\n",
       "      <td>André, Douglas</td>\n",
       "      <td>Victor, Bárbara</td>\n",
       "      <td>Rolando</td>\n",
       "    </tr>\n",
       "    <tr>\n",
       "      <th>11/11</th>\n",
       "      <td>André, Douglas</td>\n",
       "      <td>Douglas HFA, Vitória HFA</td>\n",
       "      <td>Maria, Bárbara</td>\n",
       "      <td>Rolando, Filipe</td>\n",
       "      <td></td>\n",
       "      <td>Victor</td>\n",
       "    </tr>\n",
       "    <tr>\n",
       "      <th>12/11</th>\n",
       "      <td>Victor, Pedro</td>\n",
       "      <td>André, Pedro</td>\n",
       "      <td>Maria, Bárbara</td>\n",
       "      <td>Cinthya, Giselia</td>\n",
       "      <td></td>\n",
       "      <td>Rolando</td>\n",
       "    </tr>\n",
       "    <tr>\n",
       "      <th>13/11</th>\n",
       "      <td>Cinthya, Filipe</td>\n",
       "      <td>Victor, Giselia</td>\n",
       "      <td>Maria, Douglas</td>\n",
       "      <td></td>\n",
       "      <td></td>\n",
       "      <td></td>\n",
       "    </tr>\n",
       "    <tr>\n",
       "      <th>14/11</th>\n",
       "      <td>André, Giselia</td>\n",
       "      <td>Douglas HFA, Vitória HFA</td>\n",
       "      <td>Maria, Bárbara</td>\n",
       "      <td></td>\n",
       "      <td></td>\n",
       "      <td></td>\n",
       "    </tr>\n",
       "    <tr>\n",
       "      <th>15/11</th>\n",
       "      <td>Rolando, Douglas</td>\n",
       "      <td>André, Pedro</td>\n",
       "      <td>Cinthya, Lucas</td>\n",
       "      <td>Victor, Bárbara</td>\n",
       "      <td>Rolando, Giselia</td>\n",
       "      <td>André</td>\n",
       "    </tr>\n",
       "    <tr>\n",
       "      <th>16/11</th>\n",
       "      <td>Rolando, Pedro</td>\n",
       "      <td>Berbem, Vitória HFA</td>\n",
       "      <td>Cinthya, Douglas</td>\n",
       "      <td>Victor, Filipe</td>\n",
       "      <td>Cinthya, Lucas</td>\n",
       "      <td>Maria</td>\n",
       "    </tr>\n",
       "    <tr>\n",
       "      <th>17/11</th>\n",
       "      <td>André, Filipe</td>\n",
       "      <td>Cinthya, Douglas</td>\n",
       "      <td>Cinthya, Lucas</td>\n",
       "      <td>Rolando, Bárbara</td>\n",
       "      <td>Victor, Bárbara</td>\n",
       "      <td>Maria</td>\n",
       "    </tr>\n",
       "    <tr>\n",
       "      <th>18/11</th>\n",
       "      <td>André, Lucas</td>\n",
       "      <td>Douglas HFA, Vitória HFA</td>\n",
       "      <td>Cinthya, Giselia</td>\n",
       "      <td>Maria, Bárbara</td>\n",
       "      <td></td>\n",
       "      <td>Victor</td>\n",
       "    </tr>\n",
       "    <tr>\n",
       "      <th>19/11</th>\n",
       "      <td>Victor, Lucas</td>\n",
       "      <td>Rolando, Douglas</td>\n",
       "      <td>Cinthya, Giselia</td>\n",
       "      <td>Maria, Douglas</td>\n",
       "      <td></td>\n",
       "      <td>André</td>\n",
       "    </tr>\n",
       "    <tr>\n",
       "      <th>20/11</th>\n",
       "      <td>Rolando, Pedro</td>\n",
       "      <td>Rolando, Lucas</td>\n",
       "      <td>Cinthya, Bárbara</td>\n",
       "      <td></td>\n",
       "      <td></td>\n",
       "      <td></td>\n",
       "    </tr>\n",
       "    <tr>\n",
       "      <th>21/11</th>\n",
       "      <td>Rolando, Bárbara</td>\n",
       "      <td>Berbem, Vitória HFA</td>\n",
       "      <td>Cinthya, Lucas</td>\n",
       "      <td></td>\n",
       "      <td></td>\n",
       "      <td></td>\n",
       "    </tr>\n",
       "    <tr>\n",
       "      <th>22/11</th>\n",
       "      <td>André, Bárbara</td>\n",
       "      <td>Rolando, Giselia</td>\n",
       "      <td>Rolando, Pedro</td>\n",
       "      <td>Maria, Douglas</td>\n",
       "      <td>Victor, Pedro</td>\n",
       "      <td>Victor</td>\n",
       "    </tr>\n",
       "    <tr>\n",
       "      <th>23/11</th>\n",
       "      <td>Cinthya, Filipe</td>\n",
       "      <td>Douglas HFA, Vitória HFA</td>\n",
       "      <td>Rolando, Lucas</td>\n",
       "      <td>André, Douglas</td>\n",
       "      <td>Cinthya, Lucas</td>\n",
       "      <td>Maria</td>\n",
       "    </tr>\n",
       "    <tr>\n",
       "      <th>24/11</th>\n",
       "      <td>Maria, Lucas</td>\n",
       "      <td>Victor, Giselia</td>\n",
       "      <td>Rolando, Pedro</td>\n",
       "      <td>Cinthya, Filipe</td>\n",
       "      <td>Cinthya, Pedro</td>\n",
       "      <td>André</td>\n",
       "    </tr>\n",
       "    <tr>\n",
       "      <th>25/11</th>\n",
       "      <td>Cinthya, Douglas</td>\n",
       "      <td>Douglas HFA, Vitória HFA</td>\n",
       "      <td>Rolando, Bárbara</td>\n",
       "      <td>Victor, Lucas</td>\n",
       "      <td></td>\n",
       "      <td>Maria</td>\n",
       "    </tr>\n",
       "    <tr>\n",
       "      <th>26/11</th>\n",
       "      <td>Cinthya, Lucas</td>\n",
       "      <td>Cinthya, Douglas</td>\n",
       "      <td>Rolando, Pedro</td>\n",
       "      <td>Maria, Douglas</td>\n",
       "      <td></td>\n",
       "      <td>Victor</td>\n",
       "    </tr>\n",
       "    <tr>\n",
       "      <th>27/11</th>\n",
       "      <td>André, Douglas</td>\n",
       "      <td>Victor, Giselia</td>\n",
       "      <td>Rolando, Giselia</td>\n",
       "      <td></td>\n",
       "      <td></td>\n",
       "      <td></td>\n",
       "    </tr>\n",
       "    <tr>\n",
       "      <th>28/11</th>\n",
       "      <td>Cinthya, Bárbara</td>\n",
       "      <td>Berbem, Vitória HFA</td>\n",
       "      <td>Rolando, Pedro</td>\n",
       "      <td></td>\n",
       "      <td></td>\n",
       "      <td></td>\n",
       "    </tr>\n",
       "    <tr>\n",
       "      <th>29/11</th>\n",
       "      <td>Cinthya, Filipe</td>\n",
       "      <td>Rolando, Lucas</td>\n",
       "      <td>Victor, Pedro</td>\n",
       "      <td>Maria, Bárbara</td>\n",
       "      <td>Maria, Douglas</td>\n",
       "      <td>Rolando</td>\n",
       "    </tr>\n",
       "    <tr>\n",
       "      <th>30/11</th>\n",
       "      <td>Cinthya, Giselia</td>\n",
       "      <td>Berbem, Vitória HFA</td>\n",
       "      <td>Victor, Douglas</td>\n",
       "      <td>André, Filipe</td>\n",
       "      <td>Cinthya, Bárbara</td>\n",
       "      <td>Maria</td>\n",
       "    </tr>\n",
       "  </tbody>\n",
       "</table>\n",
       "</div>"
      ],
      "text/plain": [
       "                HRC_dia                 HRC_noite               ENF  \\\n",
       "1/11       Maria, Lucas              André, Pedro    André, Bárbara   \n",
       "2/11     Maria, Douglas       Berbem, Vitória HFA      André, Pedro   \n",
       "3/11   Cinthya, Bárbara            Maria, Bárbara      André, Lucas   \n",
       "4/11   Cinthya, Bárbara  Douglas HFA, Vitória HFA    André, Douglas   \n",
       "5/11      Victor, Lucas          Cinthya, Giselia    André, Giselia   \n",
       "6/11    Victor, Giselia            Cinthya, Lucas      André, Pedro   \n",
       "7/11    Cinthya, Filipe  Douglas HFA, Vitória HFA    André, Douglas   \n",
       "8/11   Cinthya, Bárbara             Victor, Pedro      Maria, Lucas   \n",
       "9/11     Rolando, Lucas  Douglas HFA, Vitória HFA    Maria, Giselia   \n",
       "10/11    Cinthya, Lucas            André, Douglas      Maria, Pedro   \n",
       "11/11    André, Douglas  Douglas HFA, Vitória HFA    Maria, Bárbara   \n",
       "12/11     Victor, Pedro              André, Pedro    Maria, Bárbara   \n",
       "13/11   Cinthya, Filipe           Victor, Giselia    Maria, Douglas   \n",
       "14/11    André, Giselia  Douglas HFA, Vitória HFA    Maria, Bárbara   \n",
       "15/11  Rolando, Douglas              André, Pedro    Cinthya, Lucas   \n",
       "16/11    Rolando, Pedro       Berbem, Vitória HFA  Cinthya, Douglas   \n",
       "17/11     André, Filipe          Cinthya, Douglas    Cinthya, Lucas   \n",
       "18/11      André, Lucas  Douglas HFA, Vitória HFA  Cinthya, Giselia   \n",
       "19/11     Victor, Lucas          Rolando, Douglas  Cinthya, Giselia   \n",
       "20/11    Rolando, Pedro            Rolando, Lucas  Cinthya, Bárbara   \n",
       "21/11  Rolando, Bárbara       Berbem, Vitória HFA    Cinthya, Lucas   \n",
       "22/11    André, Bárbara          Rolando, Giselia    Rolando, Pedro   \n",
       "23/11   Cinthya, Filipe  Douglas HFA, Vitória HFA    Rolando, Lucas   \n",
       "24/11      Maria, Lucas           Victor, Giselia    Rolando, Pedro   \n",
       "25/11  Cinthya, Douglas  Douglas HFA, Vitória HFA  Rolando, Bárbara   \n",
       "26/11    Cinthya, Lucas          Cinthya, Douglas    Rolando, Pedro   \n",
       "27/11    André, Douglas           Victor, Giselia  Rolando, Giselia   \n",
       "28/11  Cinthya, Bárbara       Berbem, Vitória HFA    Rolando, Pedro   \n",
       "29/11   Cinthya, Filipe            Rolando, Lucas     Victor, Pedro   \n",
       "30/11  Cinthya, Giselia       Berbem, Vitória HFA   Victor, Douglas   \n",
       "\n",
       "                     CC             HRSam      Amb  \n",
       "1/11   Rolando, Douglas    Maria, Douglas  Cinthya  \n",
       "2/11    Victor, Bárbara    André, Giselia  Rolando  \n",
       "3/11     Maria, Giselia     Victor, Lucas  Rolando  \n",
       "4/11       Maria, Lucas                    Rolando  \n",
       "5/11    Cinthya, Filipe                    Rolando  \n",
       "6/11                                                \n",
       "7/11                                                \n",
       "8/11     André, Giselia    Maria, Douglas   Victor  \n",
       "9/11       André, Pedro    André, Douglas   Victor  \n",
       "10/11    André, Douglas   Victor, Bárbara  Rolando  \n",
       "11/11   Rolando, Filipe                     Victor  \n",
       "12/11  Cinthya, Giselia                    Rolando  \n",
       "13/11                                               \n",
       "14/11                                               \n",
       "15/11   Victor, Bárbara  Rolando, Giselia    André  \n",
       "16/11    Victor, Filipe    Cinthya, Lucas    Maria  \n",
       "17/11  Rolando, Bárbara   Victor, Bárbara    Maria  \n",
       "18/11    Maria, Bárbara                     Victor  \n",
       "19/11    Maria, Douglas                      André  \n",
       "20/11                                               \n",
       "21/11                                               \n",
       "22/11    Maria, Douglas     Victor, Pedro   Victor  \n",
       "23/11    André, Douglas    Cinthya, Lucas    Maria  \n",
       "24/11   Cinthya, Filipe    Cinthya, Pedro    André  \n",
       "25/11     Victor, Lucas                      Maria  \n",
       "26/11    Maria, Douglas                     Victor  \n",
       "27/11                                               \n",
       "28/11                                               \n",
       "29/11    Maria, Bárbara    Maria, Douglas  Rolando  \n",
       "30/11     André, Filipe  Cinthya, Bárbara    Maria  "
      ]
     },
     "execution_count": 113,
     "metadata": {},
     "output_type": "execute_result"
    }
   ],
   "source": [
    "if status == pywraplp.Solver.OPTIMAL:\n",
    "    cols = [s['name'] for s in shifts]\n",
    "    idx = [f'{d + 1}/{month_idx}' for d in range(n_days)]\n",
    "\n",
    "\n",
    "pd.DataFrame(schedule, columns=cols, index=idx)"
   ]
  },
  {
   "cell_type": "code",
   "execution_count": null,
   "metadata": {},
   "outputs": [],
   "source": [
    "df = pd.DataFrame()\n",
    "\n",
    "for r, resident in enumerate(residents):\n",
    "    if resident['type'] == 'R2':\n",
    "        for w in range(n_weeks):\n",
    "            df = df.append({\n",
    "                'Semana': w + 1,\n",
    "                'Residente': resident['name'],\n",
    "                'Tempo': Hrw[r][w].solution_value(),\n",
    "            }, ignore_index=True)"
   ]
  },
  {
   "cell_type": "code",
   "execution_count": null,
   "metadata": {},
   "outputs": [
    {
     "data": {
      "text/html": [
       "<div>\n",
       "<style scoped>\n",
       "    .dataframe tbody tr th:only-of-type {\n",
       "        vertical-align: middle;\n",
       "    }\n",
       "\n",
       "    .dataframe tbody tr th {\n",
       "        vertical-align: top;\n",
       "    }\n",
       "\n",
       "    .dataframe thead th {\n",
       "        text-align: right;\n",
       "    }\n",
       "</style>\n",
       "<table border=\"1\" class=\"dataframe\">\n",
       "  <thead>\n",
       "    <tr style=\"text-align: right;\">\n",
       "      <th>Residente</th>\n",
       "      <th>Bárbara</th>\n",
       "      <th>Douglas</th>\n",
       "      <th>Giselia</th>\n",
       "      <th>Lucas</th>\n",
       "      <th>Pedro</th>\n",
       "    </tr>\n",
       "    <tr>\n",
       "      <th>Semana</th>\n",
       "      <th></th>\n",
       "      <th></th>\n",
       "      <th></th>\n",
       "      <th></th>\n",
       "      <th></th>\n",
       "    </tr>\n",
       "  </thead>\n",
       "  <tbody>\n",
       "    <tr>\n",
       "      <th>1.0</th>\n",
       "      <td>60.0</td>\n",
       "      <td>53.0</td>\n",
       "      <td>53.0</td>\n",
       "      <td>65.0</td>\n",
       "      <td>36.0</td>\n",
       "    </tr>\n",
       "    <tr>\n",
       "      <th>2.0</th>\n",
       "      <td>53.0</td>\n",
       "      <td>58.0</td>\n",
       "      <td>60.0</td>\n",
       "      <td>36.0</td>\n",
       "      <td>60.0</td>\n",
       "    </tr>\n",
       "    <tr>\n",
       "      <th>3.0</th>\n",
       "      <td>65.0</td>\n",
       "      <td>60.0</td>\n",
       "      <td>29.0</td>\n",
       "      <td>77.0</td>\n",
       "      <td>36.0</td>\n",
       "    </tr>\n",
       "    <tr>\n",
       "      <th>4.0</th>\n",
       "      <td>36.0</td>\n",
       "      <td>72.0</td>\n",
       "      <td>48.0</td>\n",
       "      <td>53.0</td>\n",
       "      <td>58.0</td>\n",
       "    </tr>\n",
       "    <tr>\n",
       "      <th>5.0</th>\n",
       "      <td>17.0</td>\n",
       "      <td>17.0</td>\n",
       "      <td>12.0</td>\n",
       "      <td>12.0</td>\n",
       "      <td>12.0</td>\n",
       "    </tr>\n",
       "  </tbody>\n",
       "</table>\n",
       "</div>"
      ],
      "text/plain": [
       "Residente  Bárbara  Douglas  Giselia  Lucas  Pedro\n",
       "Semana                                            \n",
       "1.0           60.0     53.0     53.0   65.0   36.0\n",
       "2.0           53.0     58.0     60.0   36.0   60.0\n",
       "3.0           65.0     60.0     29.0   77.0   36.0\n",
       "4.0           36.0     72.0     48.0   53.0   58.0\n",
       "5.0           17.0     17.0     12.0   12.0   12.0"
      ]
     },
     "execution_count": 115,
     "metadata": {},
     "output_type": "execute_result"
    }
   ],
   "source": [
    "df_pivot = df.pivot(index='Semana', columns='Residente', values='Tempo')\n",
    "df_pivot"
   ]
  },
  {
   "cell_type": "code",
   "execution_count": null,
   "metadata": {},
   "outputs": [
    {
     "data": {
      "text/plain": [
       "<AxesSubplot:xlabel='Semana'>"
      ]
     },
     "execution_count": 116,
     "metadata": {},
     "output_type": "execute_result"
    },
    {
     "data": {
      "image/png": "[encoded data removed]",
      "text/plain": [
       "<Figure size 432x288 with 1 Axes>"
      ]
     },
     "metadata": {
      "needs_background": "light"
     },
     "output_type": "display_data"
    }
   ],
   "source": [
    "resident_list = list(df_pivot.columns)\n",
    "pivot = df_pivot.reset_index()\n",
    "pivot.plot(x=\"Semana\", y=resident_list, kind=\"bar\")\n"
   ]
  },
  {
   "cell_type": "code",
   "execution_count": null,
   "metadata": {},
   "outputs": [],
   "source": []
  }
 ],
 "metadata": {
  "interpreter": {
   "hash": "c9432c460735b2b6a49e894b88ff908a5641efb5f0bdd70cce83ccf0f6472aa1"
  },
  "kernelspec": {
   "display_name": "Python 3.8.5 64-bit ('venv': venv)",
   "name": "python3"
  },
  "language_info": {
   "codemirror_mode": {
    "name": "ipython",
    "version": 3
   },
   "file_extension": ".py",
   "mimetype": "text/x-python",
   "name": "python",
   "nbconvert_exporter": "python",
   "pygments_lexer": "ipython3",
   "version": "3.8.5"
  },
  "orig_nbformat": 4
 },
 "nbformat": 4,
 "nbformat_minor": 2
}
