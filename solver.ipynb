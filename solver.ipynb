{
 "cells": [
  {
   "cell_type": "code",
   "execution_count": 109,
   "source": [
    "from ortools.linear_solver import pywraplp\n",
    "from datetime import datetime, date\n",
    "import pandas as pd\n",
    "import calendar\n",
    "solver = pywraplp.Solver.CreateSolver('GLOP')"
   ],
   "outputs": [],
   "metadata": {}
  },
  {
   "cell_type": "markdown",
   "source": [
    "## Variáveis do problema"
   ],
   "metadata": {}
  },
  {
   "cell_type": "code",
   "execution_count": 110,
   "source": [
    "month_idx = 11\n",
    "now = datetime.now()\n",
    "n_days = calendar.monthrange(now.year, month_idx)[1]\n",
    "weekdays  = [date(now.year, month_idx, d).weekday() for d in range(1, n_days + 1)]\n",
    "first_weekday = weekdays[0]\n",
    "print(len(calendar.monthcalendar(now.year, month_idx)))"
   ],
   "outputs": [
    {
     "output_type": "stream",
     "name": "stdout",
     "text": [
      "5\n"
     ]
    }
   ],
   "metadata": {}
  },
  {
   "cell_type": "code",
   "execution_count": 111,
   "source": [
    "residents = [\n",
    "    { \"idx\": 0, \"name\": \"André\", \"type\": \"R1\" },\n",
    "    { \"idx\": 1, \"name\": \"Maria\", \"type\": \"R1\" },\n",
    "    { \"idx\": 2, \"name\": \"Cinthya\", \"type\": \"R1\" },\n",
    "    { \"idx\": 3, \"name\": \"Rolando\", \"type\": \"R1\" },\n",
    "    { \"idx\": 4, \"name\": \"Victor\", \"type\": \"R1\" },\n",
    "    { \"idx\": 5, \"name\": \"Lucas\", \"type\": \"R2\" },\n",
    "    { \"idx\": 6, \"name\": \"Giselia\", \"type\": \"R2\" },\n",
    "    { \"idx\": 7, \"name\": \"Pedro\", \"type\": \"R2\" },\n",
    "    { \"idx\": 8, \"name\": \"Bárbara\", \"type\": \"R2\" },\n",
    "    { \"idx\": 9, \"name\": \"Filipe\", \"type\": \"R3\" },\n",
    "]\n",
    "\n",
    "n_res = len(residents)"
   ],
   "outputs": [],
   "metadata": {}
  },
  {
   "cell_type": "code",
   "execution_count": 112,
   "source": [
    "enf_list = ['André', 'Maria', 'Cinthya', 'Rolando', 'Victor']\n",
    "enf_list = [r for r in residents if r['name'] in enf_list]\n",
    "enf_list"
   ],
   "outputs": [
    {
     "output_type": "execute_result",
     "data": {
      "text/plain": [
       "[{'idx': 0, 'name': 'André', 'type': 'R1'},\n",
       " {'idx': 1, 'name': 'Maria', 'type': 'R1'},\n",
       " {'idx': 2, 'name': 'Cinthya', 'type': 'R1'},\n",
       " {'idx': 3, 'name': 'Rolando', 'type': 'R1'},\n",
       " {'idx': 4, 'name': 'Victor', 'type': 'R1'}]"
      ]
     },
     "metadata": {},
     "execution_count": 112
    }
   ],
   "metadata": {}
  },
  {
   "cell_type": "code",
   "execution_count": 113,
   "source": [
    "shifts = [\n",
    "    { \"idx\": 0, \"name\": \"HRC_dia\", \"start_time\": 7, \"end_time\": 19, \"frequency\": [1,1,1,1,1,1,1], \"num_res\": 2 },\n",
    "    { \"idx\": 1, \"name\": \"HRC_noite\", \"start_time\": 19, \"end_time\": 7, \"frequency\": [1,1,1,1,1,1,1], \"num_res\": 2 },\n",
    "    { \"idx\": 2, \"name\": \"ENF\", \"start_time\": 7, \"end_time\": 19, \"frequency\": [1,1,1,1,1,1,1], \"num_res\": 2 },\n",
    "    { \"idx\": 3, \"name\": \"CC\", \"start_time\": 7, \"end_time\": 19, \"frequency\": [1,1,1,1,1,0,0], \"num_res\": 2 },\n",
    "    { \"idx\": 4, \"name\": \"HRSam\", \"start_time\": 19, \"end_time\": 24, \"frequency\": [1,1,1,0,0,0,0], \"num_res\": 2 },\n",
    "    { \"idx\": 5, \"name\": \"Amb\", \"start_time\": 7, \"end_time\": 19, \"frequency\": [1,1,1,1,1,0,0], \"num_res\": 1 },\n",
    "]\n",
    "\n",
    "n_shifts = len(shifts)"
   ],
   "outputs": [],
   "metadata": {}
  },
  {
   "cell_type": "code",
   "execution_count": 114,
   "source": [
    "def convert_date(hour, day=1):\n",
    "    return datetime.now().replace(day=day, hour=hour-1, minute=0, second=0, microsecond=0)\n",
    "\n",
    "def get_time(shift):\n",
    "    start = shift['start_time']\n",
    "    end = shift['end_time']\n",
    "    if end < start:\n",
    "        return convert_date(start), convert_date(end, 2)\n",
    "    return convert_date(start), convert_date(end)\n",
    "\n",
    "def check_overlap(s1, s2):\n",
    "    start1, end1 = get_time(s1)\n",
    "    start2, end2 = get_time(s2)\n",
    "    if end1 > start2 and end2 > start1:\n",
    "        return 1\n",
    "\n",
    "    return 0\n",
    "\n",
    "overlaps = [[check_overlap(s1, s2) for s1 in shifts] for s2 in shifts]\n"
   ],
   "outputs": [],
   "metadata": {}
  },
  {
   "cell_type": "code",
   "execution_count": 115,
   "source": [
    "for i, shift in enumerate(shifts):\n",
    "    start, end = get_time(shift)\n",
    "    shifts[i]['workload'] = (end - start).seconds//3600"
   ],
   "outputs": [],
   "metadata": {}
  },
  {
   "cell_type": "markdown",
   "source": [
    "## Variável alvo"
   ],
   "metadata": {}
  },
  {
   "cell_type": "code",
   "execution_count": 116,
   "source": [
    "Xrsd = [[[solver.BoolVar(f'X{r}{s}{d}') for d in range(n_days)] for s in range(n_shifts)] for r in range(n_res)]"
   ],
   "outputs": [],
   "metadata": {}
  },
  {
   "cell_type": "markdown",
   "source": [
    "## Restrições\n",
    "\n",
    "1. Garantir que tenha o número de residentes necessário em cada plantão"
   ],
   "metadata": {}
  },
  {
   "cell_type": "code",
   "execution_count": 117,
   "source": [
    "for s, shift in enumerate(shifts):\n",
    "    for d, weekday in enumerate(weekdays):\n",
    "\n",
    "        # Find the number of residents depending on weekday\n",
    "        num_res = 0\n",
    "        if shift['frequency'][weekday]:\n",
    "            num_res = shift['num_res']\n",
    "\n",
    "        ct = solver.Constraint(num_res, num_res, f\"Day {d + 1} - {num_res} residents in {shift['name']}\")\n",
    "        soma = \"\"\n",
    "        for r in range(n_res):\n",
    "            ct.SetCoefficient(Xrsd[r][s][d], 1)"
   ],
   "outputs": [],
   "metadata": {}
  },
  {
   "cell_type": "markdown",
   "source": [
    "2. Garantir que não haja choque de horário na escala"
   ],
   "metadata": {}
  },
  {
   "cell_type": "code",
   "execution_count": 118,
   "source": [
    "for d in range(n_days):\n",
    "    for r, resident in enumerate(residents):\n",
    "        for shift_idx, shift in enumerate(shifts):\n",
    "            ct = solver.Constraint(0, 1, f\"No time overlap in day {d + 1} for resident {resident['name']} - Shift {shift['name']}\")\n",
    "            for s, overlap in enumerate(overlaps[shift_idx]):\n",
    "                ct.SetCoefficient(Xrsd[r][s][d], overlap)"
   ],
   "outputs": [],
   "metadata": {}
  },
  {
   "cell_type": "markdown",
   "source": [
    "3. Ambulatório só tem R1"
   ],
   "metadata": {}
  },
  {
   "cell_type": "code",
   "execution_count": 119,
   "source": [
    "s = 5\n",
    "shift = shifts[s]\n",
    "r_mais = [res for res in residents if res['type'] in [\"R2\", \"R3\"]]\n",
    "\n",
    "for d in range(n_days):\n",
    "    for resident in r_mais:\n",
    "        r = resident['idx']\n",
    "        ct = solver.Constraint(0, 0, f\"No r+ in ambulatory - day {d + 1} - resident {resident['name']}\")\n",
    "        ct.SetCoefficient(Xrsd[r][s][d], 1)"
   ],
   "outputs": [],
   "metadata": {}
  },
  {
   "cell_type": "markdown",
   "source": [
    "4. HRC_dia/noite, HRSam, ENF e CC precisa de um R1 e um R2/R3 por turno"
   ],
   "metadata": {}
  },
  {
   "cell_type": "code",
   "execution_count": 120,
   "source": [
    "for d in range(n_days):\n",
    "    for s, shift in enumerate(shifts[:-1]):\n",
    "        ct = solver.Constraint(0, 0, f\"R1+R2/R3 in day {d + 1} - shift {shift['name']}\")\n",
    "        for r, resident in enumerate(residents):\n",
    "            is_r1 = 1 if resident['type'] == 'R1' else -1\n",
    "            ct.SetCoefficient(Xrsd[r][s][d], is_r1)"
   ],
   "outputs": [],
   "metadata": {}
  },
  {
   "cell_type": "markdown",
   "source": [
    "5. R3 faz HRC_dia ou CC 1x por semana cada"
   ],
   "metadata": {}
  },
  {
   "cell_type": "code",
   "execution_count": 121,
   "source": [
    "r3_shifts = [shifts[i] for i in [0, 3]]\n",
    "r3_list = [res for res in residents if res['type']  == \"R3\"]\n",
    "\n",
    "for resident in r3_list:\n",
    "    r = resident['idx']\n",
    "    for shift in r3_shifts:\n",
    "        s = shift['idx']\n",
    "        week_counter = 0\n",
    "        for d, weekday in enumerate(weekdays):\n",
    "            if weekday == first_weekday:\n",
    "                week_counter += 1\n",
    "                ct = solver.Constraint(1, 1, f\"R3 {resident['name']} working once in shift {shift['name']} - week {week_counter}\")\n",
    "            ct.SetCoefficient(Xrsd[r][s][d], 1)"
   ],
   "outputs": [],
   "metadata": {}
  },
  {
   "cell_type": "markdown",
   "source": [
    "6. R3 não faz parte dos demais plantões (HRC_noite, amb, enf, hrsam)"
   ],
   "metadata": {}
  },
  {
   "cell_type": "code",
   "execution_count": 122,
   "source": [
    "not_r3_shifts = [shifts[i] for i in [1, 2, 4, 5]]\n",
    "\n",
    "ct = solver.Constraint(0, 0, f\"R3 residents doesnt work in other shifts\")\n",
    "for resident in r3_list:\n",
    "    r = resident['idx']\n",
    "    for shift in not_r3_shifts:\n",
    "        s = shift['idx']\n",
    "        for d in range(n_days):\n",
    "            ct.SetCoefficient(Xrsd[r][s][d], 1)"
   ],
   "outputs": [],
   "metadata": {}
  },
  {
   "cell_type": "markdown",
   "source": [
    "7. O R1 fica a semana toda na enfermaria"
   ],
   "metadata": {}
  },
  {
   "cell_type": "code",
   "execution_count": 123,
   "source": [
    "week_counter = 0\n",
    "s = 2  # ENF\n",
    "\n",
    "for d, weekday in enumerate(weekdays):\n",
    "    if weekday == first_weekday:\n",
    "        resident = enf_list[week_counter]\n",
    "        r = resident['idx']\n",
    "        week_counter += 1\n",
    "    ct = solver.Constraint(1, 1, f\"R1 {resident['name']} working on ENF - week {week_counter + 1}\")\n",
    "    ct.SetCoefficient(Xrsd[r][s][d], 1)"
   ],
   "outputs": [],
   "metadata": {}
  },
  {
   "cell_type": "markdown",
   "source": [
    "8. Máximo de horas de trabalho semanais por residente"
   ],
   "metadata": {}
  },
  {
   "cell_type": "code",
   "execution_count": 124,
   "source": [
    "max_workload = 110\n",
    "\n",
    "for r, resident in enumerate(residents):\n",
    "    week_counter = 0\n",
    "    for d, weekday in enumerate(weekdays):\n",
    "\n",
    "        if weekday == first_weekday:\n",
    "            ct = solver.Constraint(0, max_workload, f\"R1 {resident['name']} working between {0} and {max_workload} hors - week {week_counter + 1}\")\n",
    "            week_counter += 1\n",
    "\n",
    "        for s, shift in enumerate(shifts):\n",
    "            ct.SetCoefficient(Xrsd[r][s][d], shift['workload'])"
   ],
   "outputs": [],
   "metadata": {}
  },
  {
   "cell_type": "markdown",
   "source": [
    "9. Máximo 24 horas seguidas de trabalho"
   ],
   "metadata": {}
  },
  {
   "cell_type": "code",
   "execution_count": 125,
   "source": [
    "# como implementar?"
   ],
   "outputs": [],
   "metadata": {}
  },
  {
   "cell_type": "markdown",
   "source": [
    "## Função objetivo"
   ],
   "metadata": {}
  },
  {
   "cell_type": "code",
   "execution_count": 126,
   "source": [
    "objective = solver.Objective()\n",
    "\n",
    "for d in range(n_days):\n",
    "    for s in range(n_shifts):\n",
    "        for r in range(n_res):\n",
    "            objective.SetCoefficient(Xrsd[r][s][d], 1)\n",
    "\n",
    "objective.SetMinimization()"
   ],
   "outputs": [],
   "metadata": {}
  },
  {
   "cell_type": "code",
   "execution_count": 127,
   "source": [
    "solver.NumConstraints()"
   ],
   "outputs": [
    {
     "output_type": "execute_result",
     "data": {
      "text/plain": [
       "2371"
      ]
     },
     "metadata": {},
     "execution_count": 127
    }
   ],
   "metadata": {}
  },
  {
   "cell_type": "code",
   "execution_count": 128,
   "source": [
    "status = solver.Solve()\n",
    "\n",
    "if status == pywraplp.Solver.OPTIMAL:\n",
    "    print('OTIMA')"
   ],
   "outputs": [
    {
     "output_type": "stream",
     "name": "stdout",
     "text": [
      "OTIMA\n"
     ]
    }
   ],
   "metadata": {}
  },
  {
   "cell_type": "code",
   "execution_count": 129,
   "source": [
    "r = 0\n",
    "resident = residents[r]\n",
    "\n",
    "# for r, resident in enumerate(residents):\n",
    "print(resident['name'])\n",
    "\n",
    "for d in range(n_days):\n",
    "    for s, shift in enumerate(shifts[:-1]):\n",
    "        if round(Xrsd[r][s][d].solution_value(), 0):\n",
    "            print(f\"DIA {d + 1} - {shift['name']}\")"
   ],
   "outputs": [
    {
     "output_type": "stream",
     "name": "stdout",
     "text": [
      "André\n",
      "DIA 1 - HRC_noite\n",
      "DIA 1 - ENF\n",
      "DIA 2 - ENF\n",
      "DIA 2 - HRSam\n",
      "DIA 3 - HRC_noite\n",
      "DIA 3 - ENF\n",
      "DIA 4 - ENF\n",
      "DIA 5 - ENF\n",
      "DIA 6 - ENF\n",
      "DIA 7 - ENF\n",
      "DIA 8 - HRSam\n",
      "DIA 9 - HRSam\n",
      "DIA 10 - HRC_dia\n",
      "DIA 10 - HRC_noite\n",
      "DIA 12 - CC\n",
      "DIA 13 - HRC_dia\n",
      "DIA 14 - HRC_dia\n",
      "DIA 15 - HRSam\n",
      "DIA 16 - HRC_dia\n",
      "DIA 16 - HRC_noite\n",
      "DIA 17 - HRC_dia\n",
      "DIA 17 - HRSam\n",
      "DIA 18 - CC\n",
      "DIA 19 - HRC_noite\n",
      "DIA 19 - CC\n",
      "DIA 21 - HRC_dia\n",
      "DIA 21 - HRC_noite\n",
      "DIA 22 - HRSam\n",
      "DIA 23 - HRC_noite\n",
      "DIA 24 - HRC_noite\n",
      "DIA 25 - HRC_noite\n",
      "DIA 25 - CC\n",
      "DIA 26 - HRC_dia\n",
      "DIA 26 - HRC_noite\n",
      "DIA 27 - HRC_noite\n",
      "DIA 28 - HRC_dia\n",
      "DIA 28 - HRC_noite\n"
     ]
    }
   ],
   "metadata": {}
  },
  {
   "cell_type": "code",
   "execution_count": 130,
   "source": [
    "week_counter = 0\n",
    "\n",
    "for r, resident in enumerate(residents):\n",
    "    if week_counter:\n",
    "        print(f\"Semana {week_counter}: {soma}\")\n",
    "    print(f\"\\n\\n RESIDENTE {resident['name']}\")\n",
    "\n",
    "    week_counter = 0\n",
    "    soma = 0\n",
    "\n",
    "    for d, weekday in enumerate(weekdays):\n",
    "\n",
    "        if weekday == first_weekday:\n",
    "            if week_counter:\n",
    "                print(f\"Semana {week_counter}: {soma}\")\n",
    "            soma = 0\n",
    "            week_counter += 1\n",
    "\n",
    "        for s, shift in enumerate(shifts):\n",
    "            soma += round(Xrsd[r][s][d].solution_value(), 0) * shift['workload']"
   ],
   "outputs": [
    {
     "output_type": "stream",
     "name": "stdout",
     "text": [
      "\n",
      "\n",
      " RESIDENTE André\n",
      "Semana 1: 113.0\n",
      "Semana 2: 106.0\n",
      "Semana 3: 106.0\n",
      "Semana 4: 113.0\n",
      "Semana 5: 12.0\n",
      "\n",
      "\n",
      " RESIDENTE Maria\n",
      "Semana 1: 108.0\n",
      "Semana 2: 96.0\n",
      "Semana 3: 17.0\n",
      "Semana 4: 77.0\n",
      "Semana 5: 17.0\n",
      "\n",
      "\n",
      " RESIDENTE Cinthya\n",
      "Semana 1: 10.0\n",
      "Semana 2: 65.0\n",
      "Semana 3: 84.0\n",
      "Semana 4: 36.0\n",
      "Semana 5: 29.0\n",
      "\n",
      "\n",
      " RESIDENTE Rolando\n",
      "Semana 1: 60.0\n",
      "Semana 2: 60.0\n",
      "Semana 3: 96.0\n",
      "Semana 4: 89.0\n",
      "Semana 5: 24.0\n",
      "\n",
      "\n",
      " RESIDENTE Victor\n",
      "Semana 1: 96.0\n",
      "Semana 2: 60.0\n",
      "Semana 3: 84.0\n",
      "Semana 4: 72.0\n",
      "Semana 5: 48.0\n",
      "\n",
      "\n",
      " RESIDENTE Lucas\n",
      "Semana 1: 72.0\n",
      "Semana 2: 77.0\n",
      "Semana 3: 72.0\n",
      "Semana 4: 89.0\n",
      "Semana 5: 41.0\n",
      "\n",
      "\n",
      " RESIDENTE Giselia\n",
      "Semana 1: 82.0\n",
      "Semana 2: 108.0\n",
      "Semana 3: 101.0\n",
      "Semana 4: 72.0\n",
      "Semana 5: 0.0\n",
      "\n",
      "\n",
      " RESIDENTE Pedro\n",
      "Semana 1: 60.0\n",
      "Semana 2: 65.0\n",
      "Semana 3: 24.0\n",
      "Semana 4: 113.0\n",
      "Semana 5: 29.0\n",
      "\n",
      "\n",
      " RESIDENTE Bárbara\n",
      "Semana 1: 89.0\n",
      "Semana 2: 53.0\n",
      "Semana 3: 106.0\n",
      "Semana 4: 29.0\n",
      "Semana 5: 12.0\n",
      "\n",
      "\n",
      " RESIDENTE Filipe\n",
      "Semana 1: 24.0\n",
      "Semana 2: 24.0\n",
      "Semana 3: 24.0\n",
      "Semana 4: 24.0\n"
     ]
    }
   ],
   "metadata": {}
  },
  {
   "cell_type": "code",
   "execution_count": 131,
   "source": [
    "schedule = []\n",
    "\n",
    "for d, weekday in enumerate(weekdays):\n",
    "    day_schedule = []\n",
    "    for s, shift in enumerate(shifts):\n",
    "        res_list = []\n",
    "        for r, resident in enumerate(residents):\n",
    "            if round(Xrsd[r][s][d].solution_value(), 0):\n",
    "                res_list.append(resident['name'])\n",
    "        day_schedule.append(', '.join(res_list))\n",
    "    schedule.append(day_schedule)"
   ],
   "outputs": [],
   "metadata": {}
  },
  {
   "cell_type": "code",
   "execution_count": 132,
   "source": [
    "cols = [s['name'] for s in shifts]\n",
    "idx = [f'{d + 1}/{month_idx}' for d in range(n_days)]\n",
    "\n",
    "\n",
    "pd.DataFrame(schedule, columns=cols, index=idx)"
   ],
   "outputs": [
    {
     "output_type": "execute_result",
     "data": {
      "text/html": [
       "<div>\n",
       "<style scoped>\n",
       "    .dataframe tbody tr th:only-of-type {\n",
       "        vertical-align: middle;\n",
       "    }\n",
       "\n",
       "    .dataframe tbody tr th {\n",
       "        vertical-align: top;\n",
       "    }\n",
       "\n",
       "    .dataframe thead th {\n",
       "        text-align: right;\n",
       "    }\n",
       "</style>\n",
       "<table border=\"1\" class=\"dataframe\">\n",
       "  <thead>\n",
       "    <tr style=\"text-align: right;\">\n",
       "      <th></th>\n",
       "      <th>HRC_dia</th>\n",
       "      <th>HRC_noite</th>\n",
       "      <th>ENF</th>\n",
       "      <th>CC</th>\n",
       "      <th>HRSam</th>\n",
       "      <th>Amb</th>\n",
       "    </tr>\n",
       "  </thead>\n",
       "  <tbody>\n",
       "    <tr>\n",
       "      <th>1/11</th>\n",
       "      <td>Maria, Lucas</td>\n",
       "      <td>André, Giselia</td>\n",
       "      <td>André, Giselia</td>\n",
       "      <td>Rolando, Bárbara</td>\n",
       "      <td>Cinthya, Bárbara</td>\n",
       "      <td>Victor</td>\n",
       "    </tr>\n",
       "    <tr>\n",
       "      <th>2/11</th>\n",
       "      <td>Maria, Pedro</td>\n",
       "      <td>Maria, Pedro</td>\n",
       "      <td>André, Bárbara</td>\n",
       "      <td>Rolando, Lucas</td>\n",
       "      <td>André, Giselia</td>\n",
       "      <td>Victor</td>\n",
       "    </tr>\n",
       "    <tr>\n",
       "      <th>3/11</th>\n",
       "      <td>Rolando, Bárbara</td>\n",
       "      <td>André, Bárbara</td>\n",
       "      <td>André, Pedro</td>\n",
       "      <td>Maria, Giselia</td>\n",
       "      <td>Cinthya, Giselia</td>\n",
       "      <td>Victor</td>\n",
       "    </tr>\n",
       "    <tr>\n",
       "      <th>4/11</th>\n",
       "      <td>Rolando, Lucas</td>\n",
       "      <td>Victor, Bárbara</td>\n",
       "      <td>André, Pedro</td>\n",
       "      <td>Maria, Filipe</td>\n",
       "      <td></td>\n",
       "      <td>Victor</td>\n",
       "    </tr>\n",
       "    <tr>\n",
       "      <th>5/11</th>\n",
       "      <td>Rolando, Filipe</td>\n",
       "      <td>Maria, Bárbara</td>\n",
       "      <td>André, Lucas</td>\n",
       "      <td>Maria, Giselia</td>\n",
       "      <td></td>\n",
       "      <td>Victor</td>\n",
       "    </tr>\n",
       "    <tr>\n",
       "      <th>6/11</th>\n",
       "      <td>Victor, Giselia</td>\n",
       "      <td>Victor, Lucas</td>\n",
       "      <td>André, Bárbara</td>\n",
       "      <td></td>\n",
       "      <td></td>\n",
       "      <td></td>\n",
       "    </tr>\n",
       "    <tr>\n",
       "      <th>7/11</th>\n",
       "      <td>Maria, Giselia</td>\n",
       "      <td>Maria, Lucas</td>\n",
       "      <td>André, Pedro</td>\n",
       "      <td></td>\n",
       "      <td></td>\n",
       "      <td></td>\n",
       "    </tr>\n",
       "    <tr>\n",
       "      <th>8/11</th>\n",
       "      <td>Victor, Giselia</td>\n",
       "      <td>Maria, Giselia</td>\n",
       "      <td>Maria, Bárbara</td>\n",
       "      <td>Rolando, Filipe</td>\n",
       "      <td>André, Pedro</td>\n",
       "      <td>André</td>\n",
       "    </tr>\n",
       "    <tr>\n",
       "      <th>9/11</th>\n",
       "      <td>Cinthya, Filipe</td>\n",
       "      <td>Rolando, Giselia</td>\n",
       "      <td>Maria, Lucas</td>\n",
       "      <td>Rolando, Giselia</td>\n",
       "      <td>André, Lucas</td>\n",
       "      <td>André</td>\n",
       "    </tr>\n",
       "    <tr>\n",
       "      <th>10/11</th>\n",
       "      <td>André, Pedro</td>\n",
       "      <td>André, Lucas</td>\n",
       "      <td>Maria, Lucas</td>\n",
       "      <td>Cinthya, Giselia</td>\n",
       "      <td>Cinthya, Bárbara</td>\n",
       "      <td>Victor</td>\n",
       "    </tr>\n",
       "    <tr>\n",
       "      <th>11/11</th>\n",
       "      <td>Cinthya, Bárbara</td>\n",
       "      <td>Victor, Pedro</td>\n",
       "      <td>Maria, Pedro</td>\n",
       "      <td>Rolando, Giselia</td>\n",
       "      <td></td>\n",
       "      <td>André</td>\n",
       "    </tr>\n",
       "    <tr>\n",
       "      <th>12/11</th>\n",
       "      <td>Cinthya, Pedro</td>\n",
       "      <td>Victor, Lucas</td>\n",
       "      <td>Maria, Giselia</td>\n",
       "      <td>André, Bárbara</td>\n",
       "      <td></td>\n",
       "      <td>Victor</td>\n",
       "    </tr>\n",
       "    <tr>\n",
       "      <th>13/11</th>\n",
       "      <td>André, Lucas</td>\n",
       "      <td>Cinthya, Bárbara</td>\n",
       "      <td>Maria, Giselia</td>\n",
       "      <td></td>\n",
       "      <td></td>\n",
       "      <td></td>\n",
       "    </tr>\n",
       "    <tr>\n",
       "      <th>14/11</th>\n",
       "      <td>André, Giselia</td>\n",
       "      <td>Rolando, Pedro</td>\n",
       "      <td>Maria, Lucas</td>\n",
       "      <td></td>\n",
       "      <td></td>\n",
       "      <td></td>\n",
       "    </tr>\n",
       "    <tr>\n",
       "      <th>15/11</th>\n",
       "      <td>Rolando, Bárbara</td>\n",
       "      <td>Rolando, Giselia</td>\n",
       "      <td>Cinthya, Pedro</td>\n",
       "      <td>Maria, Giselia</td>\n",
       "      <td>André, Bárbara</td>\n",
       "      <td>Victor</td>\n",
       "    </tr>\n",
       "    <tr>\n",
       "      <th>16/11</th>\n",
       "      <td>André, Lucas</td>\n",
       "      <td>André, Lucas</td>\n",
       "      <td>Cinthya, Bárbara</td>\n",
       "      <td>Rolando, Giselia</td>\n",
       "      <td>Maria, Bárbara</td>\n",
       "      <td>Victor</td>\n",
       "    </tr>\n",
       "    <tr>\n",
       "      <th>17/11</th>\n",
       "      <td>André, Lucas</td>\n",
       "      <td>Victor, Lucas</td>\n",
       "      <td>Cinthya, Giselia</td>\n",
       "      <td>Victor, Bárbara</td>\n",
       "      <td>André, Giselia</td>\n",
       "      <td>Rolando</td>\n",
       "    </tr>\n",
       "    <tr>\n",
       "      <th>18/11</th>\n",
       "      <td>Victor, Filipe</td>\n",
       "      <td>Rolando, Bárbara</td>\n",
       "      <td>Cinthya, Bárbara</td>\n",
       "      <td>André, Giselia</td>\n",
       "      <td></td>\n",
       "      <td>Rolando</td>\n",
       "    </tr>\n",
       "    <tr>\n",
       "      <th>19/11</th>\n",
       "      <td>Victor, Bárbara</td>\n",
       "      <td>André, Pedro</td>\n",
       "      <td>Cinthya, Giselia</td>\n",
       "      <td>André, Filipe</td>\n",
       "      <td></td>\n",
       "      <td>Rolando</td>\n",
       "    </tr>\n",
       "    <tr>\n",
       "      <th>20/11</th>\n",
       "      <td>Victor, Giselia</td>\n",
       "      <td>Rolando, Lucas</td>\n",
       "      <td>Cinthya, Lucas</td>\n",
       "      <td></td>\n",
       "      <td></td>\n",
       "      <td></td>\n",
       "    </tr>\n",
       "    <tr>\n",
       "      <th>21/11</th>\n",
       "      <td>André, Giselia</td>\n",
       "      <td>André, Bárbara</td>\n",
       "      <td>Cinthya, Bárbara</td>\n",
       "      <td></td>\n",
       "      <td></td>\n",
       "      <td></td>\n",
       "    </tr>\n",
       "    <tr>\n",
       "      <th>22/11</th>\n",
       "      <td>Cinthya, Lucas</td>\n",
       "      <td>Maria, Giselia</td>\n",
       "      <td>Rolando, Giselia</td>\n",
       "      <td>Maria, Pedro</td>\n",
       "      <td>André, Lucas</td>\n",
       "      <td>Victor</td>\n",
       "    </tr>\n",
       "    <tr>\n",
       "      <th>23/11</th>\n",
       "      <td>Maria, Pedro</td>\n",
       "      <td>André, Giselia</td>\n",
       "      <td>Rolando, Lucas</td>\n",
       "      <td>Cinthya, Giselia</td>\n",
       "      <td>Rolando, Pedro</td>\n",
       "      <td>Victor</td>\n",
       "    </tr>\n",
       "    <tr>\n",
       "      <th>24/11</th>\n",
       "      <td>Maria, Lucas</td>\n",
       "      <td>André, Lucas</td>\n",
       "      <td>Rolando, Bárbara</td>\n",
       "      <td>Cinthya, Pedro</td>\n",
       "      <td>Maria, Bárbara</td>\n",
       "      <td>Victor</td>\n",
       "    </tr>\n",
       "    <tr>\n",
       "      <th>25/11</th>\n",
       "      <td>Maria, Pedro</td>\n",
       "      <td>André, Lucas</td>\n",
       "      <td>Rolando, Lucas</td>\n",
       "      <td>André, Filipe</td>\n",
       "      <td></td>\n",
       "      <td>Victor</td>\n",
       "    </tr>\n",
       "    <tr>\n",
       "      <th>26/11</th>\n",
       "      <td>André, Giselia</td>\n",
       "      <td>André, Pedro</td>\n",
       "      <td>Rolando, Lucas</td>\n",
       "      <td>Victor, Pedro</td>\n",
       "      <td></td>\n",
       "      <td>Maria</td>\n",
       "    </tr>\n",
       "    <tr>\n",
       "      <th>27/11</th>\n",
       "      <td>Victor, Pedro</td>\n",
       "      <td>André, Bárbara</td>\n",
       "      <td>Rolando, Giselia</td>\n",
       "      <td></td>\n",
       "      <td></td>\n",
       "      <td></td>\n",
       "    </tr>\n",
       "    <tr>\n",
       "      <th>28/11</th>\n",
       "      <td>André, Filipe</td>\n",
       "      <td>André, Pedro</td>\n",
       "      <td>Rolando, Pedro</td>\n",
       "      <td></td>\n",
       "      <td></td>\n",
       "      <td></td>\n",
       "    </tr>\n",
       "    <tr>\n",
       "      <th>29/11</th>\n",
       "      <td>Rolando, Lucas</td>\n",
       "      <td>Victor, Pedro</td>\n",
       "      <td>Victor, Bárbara</td>\n",
       "      <td>Cinthya, Filipe</td>\n",
       "      <td>Cinthya, Lucas</td>\n",
       "      <td>André</td>\n",
       "    </tr>\n",
       "    <tr>\n",
       "      <th>30/11</th>\n",
       "      <td>Cinthya, Filipe</td>\n",
       "      <td>Victor, Lucas</td>\n",
       "      <td>Victor, Pedro</td>\n",
       "      <td>Rolando, Lucas</td>\n",
       "      <td>Maria, Pedro</td>\n",
       "      <td>Maria</td>\n",
       "    </tr>\n",
       "  </tbody>\n",
       "</table>\n",
       "</div>"
      ],
      "text/plain": [
       "                HRC_dia         HRC_noite               ENF                CC  \\\n",
       "1/11       Maria, Lucas    André, Giselia    André, Giselia  Rolando, Bárbara   \n",
       "2/11       Maria, Pedro      Maria, Pedro    André, Bárbara    Rolando, Lucas   \n",
       "3/11   Rolando, Bárbara    André, Bárbara      André, Pedro    Maria, Giselia   \n",
       "4/11     Rolando, Lucas   Victor, Bárbara      André, Pedro     Maria, Filipe   \n",
       "5/11    Rolando, Filipe    Maria, Bárbara      André, Lucas    Maria, Giselia   \n",
       "6/11    Victor, Giselia     Victor, Lucas    André, Bárbara                     \n",
       "7/11     Maria, Giselia      Maria, Lucas      André, Pedro                     \n",
       "8/11    Victor, Giselia    Maria, Giselia    Maria, Bárbara   Rolando, Filipe   \n",
       "9/11    Cinthya, Filipe  Rolando, Giselia      Maria, Lucas  Rolando, Giselia   \n",
       "10/11      André, Pedro      André, Lucas      Maria, Lucas  Cinthya, Giselia   \n",
       "11/11  Cinthya, Bárbara     Victor, Pedro      Maria, Pedro  Rolando, Giselia   \n",
       "12/11    Cinthya, Pedro     Victor, Lucas    Maria, Giselia    André, Bárbara   \n",
       "13/11      André, Lucas  Cinthya, Bárbara    Maria, Giselia                     \n",
       "14/11    André, Giselia    Rolando, Pedro      Maria, Lucas                     \n",
       "15/11  Rolando, Bárbara  Rolando, Giselia    Cinthya, Pedro    Maria, Giselia   \n",
       "16/11      André, Lucas      André, Lucas  Cinthya, Bárbara  Rolando, Giselia   \n",
       "17/11      André, Lucas     Victor, Lucas  Cinthya, Giselia   Victor, Bárbara   \n",
       "18/11    Victor, Filipe  Rolando, Bárbara  Cinthya, Bárbara    André, Giselia   \n",
       "19/11   Victor, Bárbara      André, Pedro  Cinthya, Giselia     André, Filipe   \n",
       "20/11   Victor, Giselia    Rolando, Lucas    Cinthya, Lucas                     \n",
       "21/11    André, Giselia    André, Bárbara  Cinthya, Bárbara                     \n",
       "22/11    Cinthya, Lucas    Maria, Giselia  Rolando, Giselia      Maria, Pedro   \n",
       "23/11      Maria, Pedro    André, Giselia    Rolando, Lucas  Cinthya, Giselia   \n",
       "24/11      Maria, Lucas      André, Lucas  Rolando, Bárbara    Cinthya, Pedro   \n",
       "25/11      Maria, Pedro      André, Lucas    Rolando, Lucas     André, Filipe   \n",
       "26/11    André, Giselia      André, Pedro    Rolando, Lucas     Victor, Pedro   \n",
       "27/11     Victor, Pedro    André, Bárbara  Rolando, Giselia                     \n",
       "28/11     André, Filipe      André, Pedro    Rolando, Pedro                     \n",
       "29/11    Rolando, Lucas     Victor, Pedro   Victor, Bárbara   Cinthya, Filipe   \n",
       "30/11   Cinthya, Filipe     Victor, Lucas     Victor, Pedro    Rolando, Lucas   \n",
       "\n",
       "                  HRSam      Amb  \n",
       "1/11   Cinthya, Bárbara   Victor  \n",
       "2/11     André, Giselia   Victor  \n",
       "3/11   Cinthya, Giselia   Victor  \n",
       "4/11                      Victor  \n",
       "5/11                      Victor  \n",
       "6/11                              \n",
       "7/11                              \n",
       "8/11       André, Pedro    André  \n",
       "9/11       André, Lucas    André  \n",
       "10/11  Cinthya, Bárbara   Victor  \n",
       "11/11                      André  \n",
       "12/11                     Victor  \n",
       "13/11                             \n",
       "14/11                             \n",
       "15/11    André, Bárbara   Victor  \n",
       "16/11    Maria, Bárbara   Victor  \n",
       "17/11    André, Giselia  Rolando  \n",
       "18/11                    Rolando  \n",
       "19/11                    Rolando  \n",
       "20/11                             \n",
       "21/11                             \n",
       "22/11      André, Lucas   Victor  \n",
       "23/11    Rolando, Pedro   Victor  \n",
       "24/11    Maria, Bárbara   Victor  \n",
       "25/11                     Victor  \n",
       "26/11                      Maria  \n",
       "27/11                             \n",
       "28/11                             \n",
       "29/11    Cinthya, Lucas    André  \n",
       "30/11      Maria, Pedro    Maria  "
      ]
     },
     "metadata": {},
     "execution_count": 132
    }
   ],
   "metadata": {}
  },
  {
   "cell_type": "code",
   "execution_count": null,
   "source": [],
   "outputs": [],
   "metadata": {}
  }
 ],
 "metadata": {
  "orig_nbformat": 4,
  "language_info": {
   "name": "python",
   "version": "3.8.5",
   "mimetype": "text/x-python",
   "codemirror_mode": {
    "name": "ipython",
    "version": 3
   },
   "pygments_lexer": "ipython3",
   "nbconvert_exporter": "python",
   "file_extension": ".py"
  },
  "kernelspec": {
   "name": "python3",
   "display_name": "Python 3.8.5 64-bit ('venv': venv)"
  },
  "interpreter": {
   "hash": "c7cccabeb809e914785bcf81f2cf0186527cf4d16c37e06db6d87802adf20cef"
  }
 },
 "nbformat": 4,
 "nbformat_minor": 2
}