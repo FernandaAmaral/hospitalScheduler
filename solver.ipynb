{
 "cells": [
  {
   "cell_type": "code",
   "execution_count": 82,
   "metadata": {},
   "outputs": [],
   "source": [
    "from ortools.linear_solver import pywraplp\n",
    "from datetime import datetime, date\n",
    "import pandas as pd\n",
    "import calendar\n",
    "solver = pywraplp.Solver.CreateSolver('GLOP')"
   ]
  },
  {
   "cell_type": "markdown",
   "metadata": {},
   "source": [
    "## Variáveis do problema"
   ]
  },
  {
   "cell_type": "code",
   "execution_count": 83,
   "metadata": {},
   "outputs": [
    {
     "name": "stdout",
     "output_type": "stream",
     "text": [
      "5\n"
     ]
    }
   ],
   "source": [
    "month_idx = 11\n",
    "now = datetime.now()\n",
    "n_days = calendar.monthrange(now.year, month_idx)[1]\n",
    "weekdays  = [date(now.year, month_idx, d).weekday() for d in range(1, n_days + 1)]\n",
    "first_weekday = weekdays[0]\n",
    "n_weeks = len(calendar.monthcalendar(now.year, month_idx))\n",
    "print(n_weeks)\n",
    "\n",
    "max_workload = 110"
   ]
  },
  {
   "cell_type": "code",
   "execution_count": 84,
   "metadata": {},
   "outputs": [],
   "source": [
    "residents = [\n",
    "    { \"idx\": 0, \"name\": \"André\", \"type\": \"R1\" },\n",
    "    { \"idx\": 1, \"name\": \"Maria\", \"type\": \"R1\" },\n",
    "    { \"idx\": 2, \"name\": \"Cinthya\", \"type\": \"R1\" },\n",
    "    { \"idx\": 3, \"name\": \"Rolando\", \"type\": \"R1\" },\n",
    "    { \"idx\": 4, \"name\": \"Victor\", \"type\": \"R1\" },\n",
    "    { \"idx\": 5, \"name\": \"Lucas\", \"type\": \"R2\" },\n",
    "    { \"idx\": 6, \"name\": \"Giselia\", \"type\": \"R2\" },\n",
    "    { \"idx\": 7, \"name\": \"Pedro\", \"type\": \"R2\" },\n",
    "    { \"idx\": 8, \"name\": \"Bárbara\", \"type\": \"R2\" },\n",
    "    { \"idx\": 9, \"name\": \"Douglas\", \"type\": \"R2\" },\n",
    "    { \"idx\": 10, \"name\": \"Filipe\", \"type\": \"R3\" },\n",
    "]\n",
    "\n",
    "n_res = len(residents)\n",
    "res_types = list(set([r['type'] for r in residents]))\n",
    "n_types = len(res_types)"
   ]
  },
  {
   "cell_type": "code",
   "execution_count": 85,
   "metadata": {},
   "outputs": [
    {
     "data": {
      "text/plain": [
       "[{'idx': 0, 'name': 'André', 'type': 'R1'},\n",
       " {'idx': 1, 'name': 'Maria', 'type': 'R1'},\n",
       " {'idx': 2, 'name': 'Cinthya', 'type': 'R1'},\n",
       " {'idx': 3, 'name': 'Rolando', 'type': 'R1'},\n",
       " {'idx': 4, 'name': 'Victor', 'type': 'R1'}]"
      ]
     },
     "execution_count": 85,
     "metadata": {},
     "output_type": "execute_result"
    }
   ],
   "source": [
    "enf_list = ['André', 'Maria', 'Cinthya', 'Rolando', 'Victor']\n",
    "enf_list = [r for r in residents if r['name'] in enf_list]\n",
    "enf_list"
   ]
  },
  {
   "cell_type": "code",
   "execution_count": 86,
   "metadata": {},
   "outputs": [],
   "source": [
    "shifts = [\n",
    "    { \"idx\": 0, \"name\": \"HRC_dia\", \"start_time\": 7, \"end_time\": 19, \"frequency\": [1,1,1,1,1,1,1], \"num_res\": 2 },\n",
    "    { \"idx\": 1, \"name\": \"HRC_noite\", \"start_time\": 19, \"end_time\": 7, \"frequency\": [1,1,1,1,1,1,1], \"num_res\": 2 },\n",
    "    { \"idx\": 2, \"name\": \"ENF\", \"start_time\": 7, \"end_time\": 19, \"frequency\": [1,1,1,1,1,1,1], \"num_res\": 2 },\n",
    "    { \"idx\": 3, \"name\": \"CC\", \"start_time\": 7, \"end_time\": 19, \"frequency\": [1,1,1,1,1,0,0], \"num_res\": 2 },\n",
    "    { \"idx\": 4, \"name\": \"HRSam\", \"start_time\": 19, \"end_time\": 24, \"frequency\": [1,1,1,0,0,0,0], \"num_res\": 2 },\n",
    "    { \"idx\": 5, \"name\": \"Amb\", \"start_time\": 7, \"end_time\": 19, \"frequency\": [1,1,1,1,1,0,0], \"num_res\": 1 },\n",
    "]\n",
    "\n",
    "n_shifts = len(shifts)"
   ]
  },
  {
   "cell_type": "code",
   "execution_count": 87,
   "metadata": {},
   "outputs": [],
   "source": [
    "def convert_date(hour, day=1):\n",
    "    return datetime.now().replace(day=day, hour=hour-1, minute=0, second=0, microsecond=0)\n",
    "\n",
    "def get_time(shift):\n",
    "    start = shift['start_time']\n",
    "    end = shift['end_time']\n",
    "    if end < start:\n",
    "        return convert_date(start), convert_date(end, 2)\n",
    "    return convert_date(start), convert_date(end)\n",
    "\n",
    "def check_overlap(s1, s2):\n",
    "    start1, end1 = get_time(s1)\n",
    "    start2, end2 = get_time(s2)\n",
    "    if end1 > start2 and end2 > start1:\n",
    "        return 1\n",
    "\n",
    "    return 0\n",
    "\n",
    "overlaps = [[check_overlap(s1, s2) for s1 in shifts] for s2 in shifts]\n"
   ]
  },
  {
   "cell_type": "code",
   "execution_count": 88,
   "metadata": {},
   "outputs": [],
   "source": [
    "for i, shift in enumerate(shifts):\n",
    "    start, end = get_time(shift)\n",
    "    shifts[i]['workload'] = (end - start).seconds//3600"
   ]
  },
  {
   "cell_type": "markdown",
   "metadata": {},
   "source": [
    "## Variáveis de decisão"
   ]
  },
  {
   "cell_type": "code",
   "execution_count": 89,
   "metadata": {},
   "outputs": [],
   "source": [
    "# Variável binária que guarda a escala do mês\n",
    "# r: residente\n",
    "# s: plantão\n",
    "# d: dia do mês\n",
    "Xrsd = [[[solver.BoolVar(f'X{r}{s}{d}') for d in range(n_days)] for s in range(n_shifts)] for r in range(n_res)]\n",
    "\n",
    "# Variável que guarda a carga horária semanal de cada residente\n",
    "# r: residente\n",
    "# w: semana\n",
    "Hrw = [[solver.NumVar(0, max_workload, f'H{r}{w}') for w in range(n_weeks)] for r in range(n_res)]\n",
    "\n",
    "# Somatório da carga horária semanal de todos os residentes por semana para cada tipo de residente\n",
    "# t: tipo de residente\n",
    "# w: semana\n",
    "Stw = [[solver.NumVar(0, solver.infinity(), f'S{t}{w}') for w in range(n_weeks)] for t in range(n_types)]"
   ]
  },
  {
   "cell_type": "markdown",
   "metadata": {},
   "source": [
    "## Restrições\n",
    "\n",
    "0. Ligando variáveis de decisão"
   ]
  },
  {
   "cell_type": "code",
   "execution_count": 90,
   "metadata": {},
   "outputs": [],
   "source": [
    "# Carga horária semanal por residente\n",
    "for r, resident in enumerate(residents):\n",
    "    week_counter = 0\n",
    "    for d, weekday in enumerate(weekdays):\n",
    "        if weekday == first_weekday:\n",
    "            ct = solver.Constraint(0, 0, f\"workload - resident {resident['name']} - week {week_counter}\")\n",
    "            ct.SetCoefficient(Hrw[r][week_counter], -1)\n",
    "            week_counter += 1\n",
    "\n",
    "        for s, shift in enumerate(shifts):\n",
    "            ct.SetCoefficient(Xrsd[r][s][d], shift['workload'])"
   ]
  },
  {
   "cell_type": "code",
   "execution_count": 91,
   "metadata": {},
   "outputs": [],
   "source": [
    "# Somatório da carga horária semanal dos residentes por semana\n",
    "for w in range(n_weeks):\n",
    "    for t in range(n_types):\n",
    "        res_list = [r for r in residents if r['type'] == res_types[t]]\n",
    "        ct = solver.Constraint(0,0, f\"Workload sum - week {w} - res_type {t}\")\n",
    "        ct.SetCoefficient(Stw[t][w], -1)\n",
    "        for res in res_list:\n",
    "            ct.SetCoefficient(Hrw[res['idx']][w], 1)"
   ]
  },
  {
   "cell_type": "markdown",
   "metadata": {},
   "source": [
    "1. Métrica de Justiça"
   ]
  },
  {
   "cell_type": "code",
   "execution_count": 92,
   "metadata": {},
   "outputs": [],
   "source": [
    "precision = 0.1\n",
    "\n",
    "for w in range(n_weeks):\n",
    "    for t in range(n_types):\n",
    "        res_list = [r for r in residents if r['type'] == res_types[t]]\n",
    "        N = len(res_list)\n",
    "        # Limites superiores\n",
    "        # N*xi - (1+precision) Sum_x <=0 ... para cada i em N\n",
    "        for res in res_list:\n",
    "            ct = solver.Constraint(-solver.infinity(), 0, f\"Upper limit - week {w} - res_type {t} - resident {res['name']}\")\n",
    "            ct.SetCoefficient(Hrw[res['idx']][w], N)\n",
    "            ct.SetCoefficient(Stw[t][w], -(1+precision))\n",
    "\n",
    "        # Limites inferiores\n",
    "        # N*xi - (1-precision) Sum_x >= 0 ... para cada i em N\n",
    "        for i in range(0,N):\n",
    "            ct = solver.Constraint(0, solver.infinity(), f\"Lower limit - week {w} - res_type {t} - resident {res['name']}\")\n",
    "            ct.SetCoefficient(Hrw[res['idx']][w], N)\n",
    "            ct.SetCoefficient(Stw[t][w], -(1-precision))"
   ]
  },
  {
   "cell_type": "markdown",
   "metadata": {},
   "source": [
    "1. Garantir que tenha o número de residentes necessário em cada plantão"
   ]
  },
  {
   "cell_type": "code",
   "execution_count": 93,
   "metadata": {},
   "outputs": [],
   "source": [
    "for s, shift in enumerate(shifts):\n",
    "    for d, weekday in enumerate(weekdays):\n",
    "\n",
    "        # Find the number of residents depending on weekday\n",
    "        num_res = 0\n",
    "        if shift['frequency'][weekday]:\n",
    "            num_res = shift['num_res']\n",
    "\n",
    "        ct = solver.Constraint(num_res, num_res, f\"Day {d + 1} - {num_res} residents in {shift['name']}\")\n",
    "        soma = \"\"\n",
    "        for r in range(n_res):\n",
    "            ct.SetCoefficient(Xrsd[r][s][d], 1)"
   ]
  },
  {
   "cell_type": "markdown",
   "metadata": {},
   "source": [
    "2. Garantir que não haja choque de horário na escala"
   ]
  },
  {
   "cell_type": "code",
   "execution_count": 94,
   "metadata": {},
   "outputs": [],
   "source": [
    "for d in range(n_days):\n",
    "    for r, resident in enumerate(residents):\n",
    "        for shift_idx, shift in enumerate(shifts):\n",
    "            ct = solver.Constraint(0, 1, f\"No time overlap in day {d + 1} for resident {resident['name']} - Shift {shift['name']}\")\n",
    "            for s, overlap in enumerate(overlaps[shift_idx]):\n",
    "                ct.SetCoefficient(Xrsd[r][s][d], overlap)"
   ]
  },
  {
   "cell_type": "markdown",
   "metadata": {},
   "source": [
    "3. Ambulatório só tem R1"
   ]
  },
  {
   "cell_type": "code",
   "execution_count": 95,
   "metadata": {},
   "outputs": [],
   "source": [
    "s = 5\n",
    "shift = shifts[s]\n",
    "r_mais = [res for res in residents if res['type'] in [\"R2\", \"R3\"]]\n",
    "\n",
    "for d in range(n_days):\n",
    "    for resident in r_mais:\n",
    "        r = resident['idx']\n",
    "        ct = solver.Constraint(0, 0, f\"No r+ in ambulatory - day {d + 1} - resident {resident['name']}\")\n",
    "        ct.SetCoefficient(Xrsd[r][s][d], 1)"
   ]
  },
  {
   "cell_type": "markdown",
   "metadata": {},
   "source": [
    "4. HRC_dia/noite, HRSam, ENF e CC precisa de um R1 e um R2/R3 por turno"
   ]
  },
  {
   "cell_type": "code",
   "execution_count": 96,
   "metadata": {},
   "outputs": [],
   "source": [
    "for d in range(n_days):\n",
    "    for s, shift in enumerate(shifts[:-1]):\n",
    "        ct = solver.Constraint(0, 0, f\"R1+R2/R3 in day {d + 1} - shift {shift['name']}\")\n",
    "        for r, resident in enumerate(residents):\n",
    "            is_r1 = 1 if resident['type'] == 'R1' else -1\n",
    "            ct.SetCoefficient(Xrsd[r][s][d], is_r1)"
   ]
  },
  {
   "cell_type": "markdown",
   "metadata": {},
   "source": [
    "5. R3 faz HRC_dia ou CC 1x por semana cada"
   ]
  },
  {
   "cell_type": "code",
   "execution_count": 97,
   "metadata": {},
   "outputs": [],
   "source": [
    "r3_shifts = [shifts[i] for i in [0, 3]]\n",
    "r3_list = [res for res in residents if res['type']  == \"R3\"]\n",
    "\n",
    "for resident in r3_list:\n",
    "    r = resident['idx']\n",
    "    for shift in r3_shifts:\n",
    "        s = shift['idx']\n",
    "        week_counter = 0\n",
    "        for d, weekday in enumerate(weekdays):\n",
    "            if weekday == first_weekday:\n",
    "                week_counter += 1\n",
    "                ct = solver.Constraint(1, 1, f\"R3 {resident['name']} working once in shift {shift['name']} - week {week_counter}\")\n",
    "            ct.SetCoefficient(Xrsd[r][s][d], 1)"
   ]
  },
  {
   "cell_type": "markdown",
   "metadata": {},
   "source": [
    "6. R3 não faz parte dos demais plantões (HRC_noite, amb, enf, hrsam)"
   ]
  },
  {
   "cell_type": "code",
   "execution_count": 98,
   "metadata": {},
   "outputs": [],
   "source": [
    "not_r3_shifts = [shifts[i] for i in [1, 2, 4, 5]]\n",
    "\n",
    "ct = solver.Constraint(0, 0, f\"R3 residents doesnt work in other shifts\")\n",
    "for resident in r3_list:\n",
    "    r = resident['idx']\n",
    "    for shift in not_r3_shifts:\n",
    "        s = shift['idx']\n",
    "        for d in range(n_days):\n",
    "            ct.SetCoefficient(Xrsd[r][s][d], 1)"
   ]
  },
  {
   "cell_type": "markdown",
   "metadata": {},
   "source": [
    "7. O R1 fica a semana toda na enfermaria"
   ]
  },
  {
   "cell_type": "code",
   "execution_count": 99,
   "metadata": {},
   "outputs": [],
   "source": [
    "week_counter = 0\n",
    "s = 2  # ENF\n",
    "\n",
    "for d, weekday in enumerate(weekdays):\n",
    "    if weekday == first_weekday:\n",
    "        resident = enf_list[week_counter]\n",
    "        r = resident['idx']\n",
    "        week_counter += 1\n",
    "    ct = solver.Constraint(1, 1, f\"R1 {resident['name']} working on ENF - week {week_counter + 1}\")\n",
    "    ct.SetCoefficient(Xrsd[r][s][d], 1)"
   ]
  },
  {
   "cell_type": "markdown",
   "metadata": {},
   "source": [
    "8. Máximo de horas de trabalho semanais por residente"
   ]
  },
  {
   "cell_type": "code",
   "execution_count": 100,
   "metadata": {},
   "outputs": [],
   "source": [
    "max_workload = 110\n",
    "\n",
    "for r, resident in enumerate(residents):\n",
    "    week_counter = 0\n",
    "    for d, weekday in enumerate(weekdays):\n",
    "\n",
    "        if weekday == first_weekday:\n",
    "            ct = solver.Constraint(0, max_workload, f\"R1 {resident['name']} working between {0} and {max_workload} hors - week {week_counter + 1}\")\n",
    "            week_counter += 1\n",
    "\n",
    "        for s, shift in enumerate(shifts):\n",
    "            ct.SetCoefficient(Xrsd[r][s][d], shift['workload'])"
   ]
  },
  {
   "cell_type": "markdown",
   "metadata": {},
   "source": [
    "9. Máximo 24 horas seguidas de trabalho"
   ]
  },
  {
   "cell_type": "code",
   "execution_count": 101,
   "metadata": {},
   "outputs": [],
   "source": [
    "# como implementar?"
   ]
  },
  {
   "cell_type": "markdown",
   "metadata": {},
   "source": [
    "## Função objetivo"
   ]
  },
  {
   "cell_type": "code",
   "execution_count": 102,
   "metadata": {},
   "outputs": [],
   "source": [
    "objective = solver.Objective()\n",
    "\n",
    "for t in range(n_types):\n",
    "    for w in range(n_weeks):\n",
    "        objective.SetCoefficient(Stw[t][w], 1)\n",
    "\n",
    "objective.SetMinimization()"
   ]
  },
  {
   "cell_type": "code",
   "execution_count": 103,
   "metadata": {},
   "outputs": [
    {
     "data": {
      "text/plain": [
       "2766"
      ]
     },
     "execution_count": 103,
     "metadata": {},
     "output_type": "execute_result"
    }
   ],
   "source": [
    "solver.NumConstraints()"
   ]
  },
  {
   "cell_type": "code",
   "execution_count": 104,
   "metadata": {},
   "outputs": [
    {
     "name": "stdout",
     "output_type": "stream",
     "text": [
      "OTIMA\n"
     ]
    }
   ],
   "source": [
    "status = solver.Solve()\n",
    "\n",
    "if status == pywraplp.Solver.OPTIMAL:\n",
    "    print('OTIMA')"
   ]
  },
  {
   "cell_type": "code",
   "execution_count": 109,
   "metadata": {},
   "outputs": [
    {
     "name": "stdout",
     "output_type": "stream",
     "text": [
      "Filipe\n",
      "DIA 5 - CC\n",
      "DIA 6 - HRC_dia\n",
      "DIA 10 - CC\n",
      "DIA 14 - HRC_dia\n",
      "DIA 15 - CC\n",
      "DIA 21 - HRC_dia\n",
      "DIA 26 - CC\n",
      "DIA 28 - HRC_dia\n",
      "DIA 29 - HRC_dia\n",
      "DIA 30 - CC\n"
     ]
    }
   ],
   "source": [
    "r = 10\n",
    "resident = residents[r]\n",
    "\n",
    "# for r, resident in enumerate(residents):\n",
    "print(resident['name'])\n",
    "\n",
    "for d in range(n_days):\n",
    "    for s, shift in enumerate(shifts[:-1]):\n",
    "        if round(Xrsd[r][s][d].solution_value(), 0):\n",
    "            print(f\"DIA {d + 1} - {shift['name']}\")"
   ]
  },
  {
   "cell_type": "code",
   "execution_count": 106,
   "metadata": {},
   "outputs": [
    {
     "name": "stdout",
     "output_type": "stream",
     "text": [
      "\n",
      "\n",
      " RESIDENTE André\n",
      "Semana 1: 84.0\n",
      "Semana 2: 89.0\n",
      "Semana 3: 84.0\n",
      "Semana 4: 82.0\n",
      "Semana 5: 34.0\n",
      "\n",
      "\n",
      " RESIDENTE Maria\n",
      "Semana 1: 84.0\n",
      "Semana 2: 84.0\n",
      "Semana 3: 60.0\n",
      "Semana 4: 60.0\n",
      "Semana 5: 12.0\n",
      "\n",
      "\n",
      " RESIDENTE Cinthya\n",
      "Semana 1: 87.0\n",
      "Semana 2: 72.0\n",
      "Semana 3: 84.0\n",
      "Semana 4: 84.0\n",
      "Semana 5: 24.0\n",
      "\n",
      "\n",
      " RESIDENTE Rolando\n",
      "Semana 1: 60.0\n",
      "Semana 2: 72.0\n",
      "Semana 3: 84.0\n",
      "Semana 4: 84.0\n",
      "Semana 5: 24.0\n",
      "\n",
      "\n",
      " RESIDENTE Victor\n",
      "Semana 1: 72.0\n",
      "Semana 2: 70.0\n",
      "Semana 3: 75.0\n",
      "Semana 4: 65.0\n",
      "Semana 5: 24.0\n",
      "\n",
      "\n",
      " RESIDENTE Lucas\n",
      "Semana 1: 60.0\n",
      "Semana 2: 72.0\n",
      "Semana 3: 72.0\n",
      "Semana 4: 72.0\n",
      "Semana 5: 17.0\n",
      "\n",
      "\n",
      " RESIDENTE Giselia\n",
      "Semana 1: 58.0\n",
      "Semana 2: 65.0\n",
      "Semana 3: 65.0\n",
      "Semana 4: 72.0\n",
      "Semana 5: 12.0\n",
      "\n",
      "\n",
      " RESIDENTE Pedro\n",
      "Semana 1: 53.0\n",
      "Semana 2: 65.0\n",
      "Semana 3: 60.0\n",
      "Semana 4: 58.0\n",
      "Semana 5: 24.0\n",
      "\n",
      "\n",
      " RESIDENTE Bárbara\n",
      "Semana 1: 72.0\n",
      "Semana 2: 48.0\n",
      "Semana 3: 48.0\n",
      "Semana 4: 41.0\n",
      "Semana 5: 12.0\n",
      "\n",
      "\n",
      " RESIDENTE Douglas\n",
      "Semana 1: 60.0\n",
      "Semana 2: 53.0\n",
      "Semana 3: 58.0\n",
      "Semana 4: 60.0\n",
      "Semana 5: 17.0\n",
      "\n",
      "\n",
      " RESIDENTE Filipe\n",
      "Semana 1: 24.0\n",
      "Semana 2: 24.0\n",
      "Semana 3: 24.0\n",
      "Semana 4: 24.0\n"
     ]
    }
   ],
   "source": [
    "week_counter = 0\n",
    "\n",
    "for r, resident in enumerate(residents):\n",
    "    if week_counter:\n",
    "        print(f\"Semana {week_counter}: {soma}\")\n",
    "    print(f\"\\n\\n RESIDENTE {resident['name']}\")\n",
    "\n",
    "    week_counter = 0\n",
    "    soma = 0\n",
    "\n",
    "    for d, weekday in enumerate(weekdays):\n",
    "\n",
    "        if weekday == first_weekday:\n",
    "            if week_counter:\n",
    "                print(f\"Semana {week_counter}: {soma}\")\n",
    "            soma = 0\n",
    "            week_counter += 1\n",
    "\n",
    "        for s, shift in enumerate(shifts):\n",
    "            soma += round(Xrsd[r][s][d].solution_value(), 0) * shift['workload']"
   ]
  },
  {
   "cell_type": "code",
   "execution_count": 107,
   "metadata": {},
   "outputs": [],
   "source": [
    "schedule = []\n",
    "\n",
    "for d, weekday in enumerate(weekdays):\n",
    "    day_schedule = []\n",
    "    for s, shift in enumerate(shifts):\n",
    "        res_list = []\n",
    "        for r, resident in enumerate(residents):\n",
    "            if round(Xrsd[r][s][d].solution_value(), 0):\n",
    "                res_list.append(resident['name'])\n",
    "        day_schedule.append(', '.join(res_list))\n",
    "    schedule.append(day_schedule)"
   ]
  },
  {
   "cell_type": "code",
   "execution_count": 108,
   "metadata": {},
   "outputs": [
    {
     "data": {
      "text/html": [
       "<div>\n",
       "<style scoped>\n",
       "    .dataframe tbody tr th:only-of-type {\n",
       "        vertical-align: middle;\n",
       "    }\n",
       "\n",
       "    .dataframe tbody tr th {\n",
       "        vertical-align: top;\n",
       "    }\n",
       "\n",
       "    .dataframe thead th {\n",
       "        text-align: right;\n",
       "    }\n",
       "</style>\n",
       "<table border=\"1\" class=\"dataframe\">\n",
       "  <thead>\n",
       "    <tr style=\"text-align: right;\">\n",
       "      <th></th>\n",
       "      <th>HRC_dia</th>\n",
       "      <th>HRC_noite</th>\n",
       "      <th>ENF</th>\n",
       "      <th>CC</th>\n",
       "      <th>HRSam</th>\n",
       "      <th>Amb</th>\n",
       "    </tr>\n",
       "  </thead>\n",
       "  <tbody>\n",
       "    <tr>\n",
       "      <th>1/11</th>\n",
       "      <td>Maria, Giselia</td>\n",
       "      <td>Maria, Pedro</td>\n",
       "      <td>André, Douglas</td>\n",
       "      <td>Cinthya, Lucas</td>\n",
       "      <td>Cinthya, Giselia</td>\n",
       "      <td>Victor</td>\n",
       "    </tr>\n",
       "    <tr>\n",
       "      <th>2/11</th>\n",
       "      <td>Rolando, Bárbara</td>\n",
       "      <td>Maria, Bárbara</td>\n",
       "      <td>André, Lucas</td>\n",
       "      <td>Maria, Douglas</td>\n",
       "      <td>Cinthya, Giselia</td>\n",
       "      <td>Victor</td>\n",
       "    </tr>\n",
       "    <tr>\n",
       "      <th>3/11</th>\n",
       "      <td>Rolando, Giselia</td>\n",
       "      <td>Maria, Lucas</td>\n",
       "      <td>André, Bárbara</td>\n",
       "      <td>Maria, Lucas</td>\n",
       "      <td>Cinthya, Pedro</td>\n",
       "      <td>Victor</td>\n",
       "    </tr>\n",
       "    <tr>\n",
       "      <th>4/11</th>\n",
       "      <td>Rolando, Douglas</td>\n",
       "      <td>Rolando, Pedro</td>\n",
       "      <td>André, Bárbara</td>\n",
       "      <td>Cinthya, Pedro</td>\n",
       "      <td></td>\n",
       "      <td>Victor</td>\n",
       "    </tr>\n",
       "    <tr>\n",
       "      <th>5/11</th>\n",
       "      <td>Rolando, Bárbara</td>\n",
       "      <td>Victor, Douglas</td>\n",
       "      <td>André, Lucas</td>\n",
       "      <td>Victor, Filipe</td>\n",
       "      <td></td>\n",
       "      <td>Maria</td>\n",
       "    </tr>\n",
       "    <tr>\n",
       "      <th>6/11</th>\n",
       "      <td>Cinthya, Filipe</td>\n",
       "      <td>Cinthya, Douglas</td>\n",
       "      <td>André, Giselia</td>\n",
       "      <td></td>\n",
       "      <td></td>\n",
       "      <td></td>\n",
       "    </tr>\n",
       "    <tr>\n",
       "      <th>7/11</th>\n",
       "      <td>Cinthya, Bárbara</td>\n",
       "      <td>Cinthya, Pedro</td>\n",
       "      <td>André, Giselia</td>\n",
       "      <td></td>\n",
       "      <td></td>\n",
       "      <td></td>\n",
       "    </tr>\n",
       "    <tr>\n",
       "      <th>8/11</th>\n",
       "      <td>Cinthya, Giselia</td>\n",
       "      <td>André, Lucas</td>\n",
       "      <td>Maria, Pedro</td>\n",
       "      <td>André, Bárbara</td>\n",
       "      <td>Victor, Douglas</td>\n",
       "      <td>Victor</td>\n",
       "    </tr>\n",
       "    <tr>\n",
       "      <th>9/11</th>\n",
       "      <td>Victor, Pedro</td>\n",
       "      <td>Rolando, Lucas</td>\n",
       "      <td>Maria, Douglas</td>\n",
       "      <td>Cinthya, Giselia</td>\n",
       "      <td>André, Pedro</td>\n",
       "      <td>André</td>\n",
       "    </tr>\n",
       "    <tr>\n",
       "      <th>10/11</th>\n",
       "      <td>Rolando, Lucas</td>\n",
       "      <td>André, Pedro</td>\n",
       "      <td>Maria, Giselia</td>\n",
       "      <td>Cinthya, Filipe</td>\n",
       "      <td>Victor, Giselia</td>\n",
       "      <td>Victor</td>\n",
       "    </tr>\n",
       "    <tr>\n",
       "      <th>11/11</th>\n",
       "      <td>Cinthya, Pedro</td>\n",
       "      <td>Rolando, Pedro</td>\n",
       "      <td>Maria, Douglas</td>\n",
       "      <td>André, Giselia</td>\n",
       "      <td></td>\n",
       "      <td>Rolando</td>\n",
       "    </tr>\n",
       "    <tr>\n",
       "      <th>12/11</th>\n",
       "      <td>Cinthya, Douglas</td>\n",
       "      <td>André, Bárbara</td>\n",
       "      <td>Maria, Bárbara</td>\n",
       "      <td>Rolando, Lucas</td>\n",
       "      <td></td>\n",
       "      <td>Victor</td>\n",
       "    </tr>\n",
       "    <tr>\n",
       "      <th>13/11</th>\n",
       "      <td>Cinthya, Lucas</td>\n",
       "      <td>Victor, Giselia</td>\n",
       "      <td>Maria, Bárbara</td>\n",
       "      <td></td>\n",
       "      <td></td>\n",
       "      <td></td>\n",
       "    </tr>\n",
       "    <tr>\n",
       "      <th>14/11</th>\n",
       "      <td>Rolando, Filipe</td>\n",
       "      <td>André, Douglas</td>\n",
       "      <td>Maria, Lucas</td>\n",
       "      <td></td>\n",
       "      <td></td>\n",
       "      <td></td>\n",
       "    </tr>\n",
       "    <tr>\n",
       "      <th>15/11</th>\n",
       "      <td>Victor, Giselia</td>\n",
       "      <td>André, Lucas</td>\n",
       "      <td>Cinthya, Douglas</td>\n",
       "      <td>Maria, Filipe</td>\n",
       "      <td>Victor, Giselia</td>\n",
       "      <td>Rolando</td>\n",
       "    </tr>\n",
       "    <tr>\n",
       "      <th>16/11</th>\n",
       "      <td>André, Bárbara</td>\n",
       "      <td>André, Pedro</td>\n",
       "      <td>Cinthya, Lucas</td>\n",
       "      <td>Victor, Giselia</td>\n",
       "      <td>Victor, Douglas</td>\n",
       "      <td>Maria</td>\n",
       "    </tr>\n",
       "    <tr>\n",
       "      <th>17/11</th>\n",
       "      <td>Victor, Pedro</td>\n",
       "      <td>André, Giselia</td>\n",
       "      <td>Cinthya, Giselia</td>\n",
       "      <td>André, Douglas</td>\n",
       "      <td>Victor, Douglas</td>\n",
       "      <td>Maria</td>\n",
       "    </tr>\n",
       "    <tr>\n",
       "      <th>18/11</th>\n",
       "      <td>Maria, Douglas</td>\n",
       "      <td>Rolando, Lucas</td>\n",
       "      <td>Cinthya, Giselia</td>\n",
       "      <td>André, Pedro</td>\n",
       "      <td></td>\n",
       "      <td>Rolando</td>\n",
       "    </tr>\n",
       "    <tr>\n",
       "      <th>19/11</th>\n",
       "      <td>Rolando, Pedro</td>\n",
       "      <td>Rolando, Lucas</td>\n",
       "      <td>Cinthya, Douglas</td>\n",
       "      <td>André, Lucas</td>\n",
       "      <td></td>\n",
       "      <td>Victor</td>\n",
       "    </tr>\n",
       "    <tr>\n",
       "      <th>20/11</th>\n",
       "      <td>Maria, Pedro</td>\n",
       "      <td>Rolando, Lucas</td>\n",
       "      <td>Cinthya, Bárbara</td>\n",
       "      <td></td>\n",
       "      <td></td>\n",
       "      <td></td>\n",
       "    </tr>\n",
       "    <tr>\n",
       "      <th>21/11</th>\n",
       "      <td>Victor, Filipe</td>\n",
       "      <td>Rolando, Bárbara</td>\n",
       "      <td>Cinthya, Bárbara</td>\n",
       "      <td></td>\n",
       "      <td></td>\n",
       "      <td></td>\n",
       "    </tr>\n",
       "    <tr>\n",
       "      <th>22/11</th>\n",
       "      <td>Cinthya, Lucas</td>\n",
       "      <td>André, Douglas</td>\n",
       "      <td>Rolando, Pedro</td>\n",
       "      <td>Victor, Giselia</td>\n",
       "      <td>Victor, Pedro</td>\n",
       "      <td>Maria</td>\n",
       "    </tr>\n",
       "    <tr>\n",
       "      <th>23/11</th>\n",
       "      <td>Cinthya, Bárbara</td>\n",
       "      <td>Victor, Douglas</td>\n",
       "      <td>Rolando, Lucas</td>\n",
       "      <td>Maria, Giselia</td>\n",
       "      <td>André, Pedro</td>\n",
       "      <td>André</td>\n",
       "    </tr>\n",
       "    <tr>\n",
       "      <th>24/11</th>\n",
       "      <td>André, Douglas</td>\n",
       "      <td>Douglas</td>\n",
       "      <td>Rolando, Giselia</td>\n",
       "      <td>Victor, Lucas</td>\n",
       "      <td>André, Bárbara</td>\n",
       "      <td>Maria</td>\n",
       "    </tr>\n",
       "    <tr>\n",
       "      <th>25/11</th>\n",
       "      <td>André, Bárbara</td>\n",
       "      <td>Cinthya, Bárbara</td>\n",
       "      <td>Rolando, Lucas</td>\n",
       "      <td>Maria, Giselia</td>\n",
       "      <td></td>\n",
       "      <td>Victor</td>\n",
       "    </tr>\n",
       "    <tr>\n",
       "      <th>26/11</th>\n",
       "      <td>Victor, Giselia</td>\n",
       "      <td>Cinthya, Lucas</td>\n",
       "      <td>Rolando, Pedro</td>\n",
       "      <td>Maria, Filipe</td>\n",
       "      <td></td>\n",
       "      <td>André</td>\n",
       "    </tr>\n",
       "    <tr>\n",
       "      <th>27/11</th>\n",
       "      <td>Cinthya, Giselia</td>\n",
       "      <td>Cinthya, Pedro</td>\n",
       "      <td>Rolando, Douglas</td>\n",
       "      <td></td>\n",
       "      <td></td>\n",
       "      <td></td>\n",
       "    </tr>\n",
       "    <tr>\n",
       "      <th>28/11</th>\n",
       "      <td>André, Filipe</td>\n",
       "      <td>Cinthya, Pedro</td>\n",
       "      <td>Rolando, Lucas</td>\n",
       "      <td></td>\n",
       "      <td></td>\n",
       "      <td></td>\n",
       "    </tr>\n",
       "    <tr>\n",
       "      <th>29/11</th>\n",
       "      <td>Cinthya, Filipe</td>\n",
       "      <td>Bárbara</td>\n",
       "      <td>Victor, Douglas</td>\n",
       "      <td>André, Lucas</td>\n",
       "      <td>André, Douglas</td>\n",
       "      <td>Rolando</td>\n",
       "    </tr>\n",
       "    <tr>\n",
       "      <th>30/11</th>\n",
       "      <td>Rolando, Pedro</td>\n",
       "      <td>Cinthya, Pedro</td>\n",
       "      <td>Victor, Giselia</td>\n",
       "      <td>Maria, Filipe</td>\n",
       "      <td>André, Lucas</td>\n",
       "      <td>André</td>\n",
       "    </tr>\n",
       "  </tbody>\n",
       "</table>\n",
       "</div>"
      ],
      "text/plain": [
       "                HRC_dia         HRC_noite               ENF                CC  \\\n",
       "1/11     Maria, Giselia      Maria, Pedro    André, Douglas    Cinthya, Lucas   \n",
       "2/11   Rolando, Bárbara    Maria, Bárbara      André, Lucas    Maria, Douglas   \n",
       "3/11   Rolando, Giselia      Maria, Lucas    André, Bárbara      Maria, Lucas   \n",
       "4/11   Rolando, Douglas    Rolando, Pedro    André, Bárbara    Cinthya, Pedro   \n",
       "5/11   Rolando, Bárbara   Victor, Douglas      André, Lucas    Victor, Filipe   \n",
       "6/11    Cinthya, Filipe  Cinthya, Douglas    André, Giselia                     \n",
       "7/11   Cinthya, Bárbara    Cinthya, Pedro    André, Giselia                     \n",
       "8/11   Cinthya, Giselia      André, Lucas      Maria, Pedro    André, Bárbara   \n",
       "9/11      Victor, Pedro    Rolando, Lucas    Maria, Douglas  Cinthya, Giselia   \n",
       "10/11    Rolando, Lucas      André, Pedro    Maria, Giselia   Cinthya, Filipe   \n",
       "11/11    Cinthya, Pedro    Rolando, Pedro    Maria, Douglas    André, Giselia   \n",
       "12/11  Cinthya, Douglas    André, Bárbara    Maria, Bárbara    Rolando, Lucas   \n",
       "13/11    Cinthya, Lucas   Victor, Giselia    Maria, Bárbara                     \n",
       "14/11   Rolando, Filipe    André, Douglas      Maria, Lucas                     \n",
       "15/11   Victor, Giselia      André, Lucas  Cinthya, Douglas     Maria, Filipe   \n",
       "16/11    André, Bárbara      André, Pedro    Cinthya, Lucas   Victor, Giselia   \n",
       "17/11     Victor, Pedro    André, Giselia  Cinthya, Giselia    André, Douglas   \n",
       "18/11    Maria, Douglas    Rolando, Lucas  Cinthya, Giselia      André, Pedro   \n",
       "19/11    Rolando, Pedro    Rolando, Lucas  Cinthya, Douglas      André, Lucas   \n",
       "20/11      Maria, Pedro    Rolando, Lucas  Cinthya, Bárbara                     \n",
       "21/11    Victor, Filipe  Rolando, Bárbara  Cinthya, Bárbara                     \n",
       "22/11    Cinthya, Lucas    André, Douglas    Rolando, Pedro   Victor, Giselia   \n",
       "23/11  Cinthya, Bárbara   Victor, Douglas    Rolando, Lucas    Maria, Giselia   \n",
       "24/11    André, Douglas           Douglas  Rolando, Giselia     Victor, Lucas   \n",
       "25/11    André, Bárbara  Cinthya, Bárbara    Rolando, Lucas    Maria, Giselia   \n",
       "26/11   Victor, Giselia    Cinthya, Lucas    Rolando, Pedro     Maria, Filipe   \n",
       "27/11  Cinthya, Giselia    Cinthya, Pedro  Rolando, Douglas                     \n",
       "28/11     André, Filipe    Cinthya, Pedro    Rolando, Lucas                     \n",
       "29/11   Cinthya, Filipe           Bárbara   Victor, Douglas      André, Lucas   \n",
       "30/11    Rolando, Pedro    Cinthya, Pedro   Victor, Giselia     Maria, Filipe   \n",
       "\n",
       "                  HRSam      Amb  \n",
       "1/11   Cinthya, Giselia   Victor  \n",
       "2/11   Cinthya, Giselia   Victor  \n",
       "3/11     Cinthya, Pedro   Victor  \n",
       "4/11                      Victor  \n",
       "5/11                       Maria  \n",
       "6/11                              \n",
       "7/11                              \n",
       "8/11    Victor, Douglas   Victor  \n",
       "9/11       André, Pedro    André  \n",
       "10/11   Victor, Giselia   Victor  \n",
       "11/11                    Rolando  \n",
       "12/11                     Victor  \n",
       "13/11                             \n",
       "14/11                             \n",
       "15/11   Victor, Giselia  Rolando  \n",
       "16/11   Victor, Douglas    Maria  \n",
       "17/11   Victor, Douglas    Maria  \n",
       "18/11                    Rolando  \n",
       "19/11                     Victor  \n",
       "20/11                             \n",
       "21/11                             \n",
       "22/11     Victor, Pedro    Maria  \n",
       "23/11      André, Pedro    André  \n",
       "24/11    André, Bárbara    Maria  \n",
       "25/11                     Victor  \n",
       "26/11                      André  \n",
       "27/11                             \n",
       "28/11                             \n",
       "29/11    André, Douglas  Rolando  \n",
       "30/11      André, Lucas    André  "
      ]
     },
     "execution_count": 108,
     "metadata": {},
     "output_type": "execute_result"
    }
   ],
   "source": [
    "cols = [s['name'] for s in shifts]\n",
    "idx = [f'{d + 1}/{month_idx}' for d in range(n_days)]\n",
    "\n",
    "\n",
    "pd.DataFrame(schedule, columns=cols, index=idx)"
   ]
  },
  {
   "cell_type": "code",
   "execution_count": null,
   "metadata": {},
   "outputs": [],
   "source": []
  }
 ],
 "metadata": {
  "interpreter": {
   "hash": "c9432c460735b2b6a49e894b88ff908a5641efb5f0bdd70cce83ccf0f6472aa1"
  },
  "kernelspec": {
   "display_name": "Python 3.8.5 64-bit ('venv': venv)",
   "name": "python3"
  },
  "language_info": {
   "codemirror_mode": {
    "name": "ipython",
    "version": 3
   },
   "file_extension": ".py",
   "mimetype": "text/x-python",
   "name": "python",
   "nbconvert_exporter": "python",
   "pygments_lexer": "ipython3",
   "version": "3.8.5"
  },
  "orig_nbformat": 4
 },
 "nbformat": 4,
 "nbformat_minor": 2
}
