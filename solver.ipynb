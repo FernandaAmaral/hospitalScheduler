{
 "cells": [
  {
   "cell_type": "code",
   "execution_count": 1,
   "metadata": {},
   "outputs": [],
   "source": [
    "from ortools.linear_solver import pywraplp\n",
    "from datetime import datetime, date\n",
    "import pandas as pd\n",
    "import calendar\n",
    "\n",
    "solver = pywraplp.Solver(\"Mixed Integer Programming\", pywraplp.Solver.CBC_MIXED_INTEGER_PROGRAMMING)"
   ]
  },
  {
   "cell_type": "markdown",
   "metadata": {},
   "source": [
    "# Variáveis do problema"
   ]
  },
  {
   "cell_type": "markdown",
   "metadata": {},
   "source": [
    "## 1. Data"
   ]
  },
  {
   "cell_type": "code",
   "execution_count": 2,
   "metadata": {},
   "outputs": [
    {
     "name": "stdout",
     "output_type": "stream",
     "text": [
      "5\n"
     ]
    }
   ],
   "source": [
    "month_idx = 11\n",
    "now = datetime.now()\n",
    "n_days = calendar.monthrange(now.year, month_idx)[1]\n",
    "weekdays  = [date(now.year, month_idx, d).weekday() for d in range(1, n_days + 1)]\n",
    "first_weekday = weekdays[0]\n",
    "n_weeks = len(calendar.monthcalendar(now.year, month_idx))\n",
    "print(n_weeks)\n",
    "\n",
    "max_workload = 110"
   ]
  },
  {
   "cell_type": "markdown",
   "metadata": {},
   "source": [
    "## 2. Residentes"
   ]
  },
  {
   "cell_type": "code",
   "execution_count": 3,
   "metadata": {},
   "outputs": [],
   "source": [
    "residents = [\n",
    "    { \"idx\": 0, \"name\": \"André\", \"type\": \"R1\" },\n",
    "    { \"idx\": 1, \"name\": \"Maria\", \"type\": \"R1\" },\n",
    "    { \"idx\": 2, \"name\": \"Cinthya\", \"type\": \"R1\" },\n",
    "    { \"idx\": 3, \"name\": \"Rolando\", \"type\": \"R1\" },\n",
    "    { \"idx\": 4, \"name\": \"Victor\", \"type\": \"R1\" },\n",
    "    { \"idx\": 5, \"name\": \"Lucas\", \"type\": \"R2\" },\n",
    "    { \"idx\": 6, \"name\": \"Giselia\", \"type\": \"R2\" },\n",
    "    { \"idx\": 7, \"name\": \"Pedro\", \"type\": \"R2\" },\n",
    "    { \"idx\": 8, \"name\": \"Bárbara\", \"type\": \"R2\" },\n",
    "    { \"idx\": 9, \"name\": \"Douglas\", \"type\": \"R2\" },\n",
    "    { \"idx\": 10, \"name\": \"Filipe\", \"type\": \"R3\" },\n",
    "    { \"idx\": 11, \"name\": \"Berbem\", \"type\": \"R2_HFA\" },\n",
    "    { \"idx\": 12, \"name\": \"Douglas HFA\", \"type\": \"R2_HFA\" },\n",
    "    { \"idx\": 13, \"name\": \"Vitória HFA\", \"type\": \"R1_HFA\" },\n",
    "]\n",
    "\n",
    "n_res = len(residents)\n",
    "# res_types = list(set([r['type'] for r in residents]))\n",
    "res_types= ['R1', 'R2', 'R3']\n",
    "n_types = len(res_types)"
   ]
  },
  {
   "cell_type": "code",
   "execution_count": 4,
   "metadata": {},
   "outputs": [
    {
     "data": {
      "text/plain": [
       "[{'idx': 0, 'name': 'André', 'type': 'R1'},\n",
       " {'idx': 1, 'name': 'Maria', 'type': 'R1'},\n",
       " {'idx': 2, 'name': 'Cinthya', 'type': 'R1'},\n",
       " {'idx': 3, 'name': 'Rolando', 'type': 'R1'},\n",
       " {'idx': 4, 'name': 'Victor', 'type': 'R1'}]"
      ]
     },
     "execution_count": 4,
     "metadata": {},
     "output_type": "execute_result"
    }
   ],
   "source": [
    "enf_list = ['André', 'Maria', 'Cinthya', 'Rolando', 'Victor']\n",
    "enf_list = [r for r in residents if r['name'] in enf_list]\n",
    "enf_list"
   ]
  },
  {
   "cell_type": "markdown",
   "metadata": {},
   "source": [
    "## 3. Plantões"
   ]
  },
  {
   "cell_type": "code",
   "execution_count": 5,
   "metadata": {},
   "outputs": [
    {
     "data": {
      "text/plain": [
       "[{'idx': 3,\n",
       "  'name': 'CC',\n",
       "  'start_time': 7,\n",
       "  'end_time': 19,\n",
       "  'frequency': [1, 1, 1, 1, 1, 0, 0],\n",
       "  'num_res': 2}]"
      ]
     },
     "execution_count": 5,
     "metadata": {},
     "output_type": "execute_result"
    }
   ],
   "source": [
    "shifts = [\n",
    "    { \"idx\": 0, \"name\": \"HRC_dia\", \"start_time\": 7, \"end_time\": 19, \"frequency\": [1,1,1,1,1,1,1], \"num_res\": 2 },\n",
    "    { \"idx\": 1, \"name\": \"HRC_noite\", \"start_time\": 19, \"end_time\": 7, \"frequency\": [1,1,1,1,1,1,1], \"num_res\": 2 },\n",
    "    { \"idx\": 2, \"name\": \"ENF\", \"start_time\": 7, \"end_time\": 19, \"frequency\": [1,1,1,1,1,1,1], \"num_res\": 2 },\n",
    "    { \"idx\": 3, \"name\": \"CC\", \"start_time\": 7, \"end_time\": 19, \"frequency\": [1,1,1,1,1,0,0], \"num_res\": 2 },\n",
    "    { \"idx\": 4, \"name\": \"HRSam\", \"start_time\": 19, \"end_time\": 24, \"frequency\": [1,1,1,0,0,0,0], \"num_res\": 2 },\n",
    "    { \"idx\": 5, \"name\": \"Amb\", \"start_time\": 7, \"end_time\": 19, \"frequency\": [1,1,1,1,1,0,0], \"num_res\": 1 },\n",
    "]\n",
    "\n",
    "n_shifts = len(shifts)\n",
    "shift_eq = ['CC']\n",
    "shift_eq_list = [s for s in shifts if s['name'] in shift_eq]\n",
    "shift_eq_list"
   ]
  },
  {
   "cell_type": "markdown",
   "metadata": {},
   "source": [
    "## 4. Matriz de choque de horário"
   ]
  },
  {
   "cell_type": "code",
   "execution_count": 6,
   "metadata": {},
   "outputs": [
    {
     "data": {
      "text/plain": [
       "[[1, 0, 1, 1, 0, 1],\n",
       " [0, 1, 0, 0, 1, 0],\n",
       " [1, 0, 1, 1, 0, 1],\n",
       " [1, 0, 1, 1, 0, 1],\n",
       " [0, 1, 0, 0, 1, 0],\n",
       " [1, 0, 1, 1, 0, 1]]"
      ]
     },
     "execution_count": 6,
     "metadata": {},
     "output_type": "execute_result"
    }
   ],
   "source": [
    "def convert_date(hour, day=1):\n",
    "    return datetime.now().replace(day=day, hour=hour-1, minute=0, second=0, microsecond=0)\n",
    "\n",
    "def get_time(shift):\n",
    "    start = shift['start_time']\n",
    "    end = shift['end_time']\n",
    "    if end < start:\n",
    "        return convert_date(start), convert_date(end, 2)\n",
    "    return convert_date(start), convert_date(end)\n",
    "\n",
    "def check_overlap(s1, s2):\n",
    "    start1, end1 = get_time(s1)\n",
    "    start2, end2 = get_time(s2)\n",
    "    if end1 > start2 and end2 > start1:\n",
    "        return 1\n",
    "\n",
    "    return 0\n",
    "\n",
    "overlaps = [[check_overlap(s1, s2) for s1 in shifts] for s2 in shifts]\n",
    "overlaps"
   ]
  },
  {
   "cell_type": "code",
   "execution_count": 7,
   "metadata": {},
   "outputs": [],
   "source": [
    "for i, shift in enumerate(shifts):\n",
    "    start, end = get_time(shift)\n",
    "    shifts[i]['workload'] = (end - start).seconds//3600"
   ]
  },
  {
   "cell_type": "markdown",
   "metadata": {},
   "source": [
    "## Variáveis de decisão"
   ]
  },
  {
   "cell_type": "code",
   "execution_count": 8,
   "metadata": {},
   "outputs": [],
   "source": [
    "# Variável binária que guarda a escala do mês\n",
    "# r: residente\n",
    "# s: plantão\n",
    "# d: dia do mês\n",
    "Xrsd = [[[solver.BoolVar(f'X{r}_{s}_{d}') for d in range(n_days)] for s in range(n_shifts)] for r in range(n_res)]\n",
    "\n",
    "# Variável que guarda a carga horária semanal de cada residente\n",
    "# r: residente\n",
    "# w: semana\n",
    "Hrw = [[solver.NumVar(0, max_workload, f'H{r}_{w}') for w in range(n_weeks)] for r in range(n_res)]\n",
    "\n",
    "# Somatório da carga horária semanal de todos os residentes por semana para cada tipo de residente\n",
    "# t: tipo de residente\n",
    "# w: semana\n",
    "Stw = [[solver.NumVar(0, solver.infinity(), f'S{t}_{w}') for w in range(n_weeks)] for t in range(n_types)]\n",
    "\n",
    "# Somatório da quantidade de plantões de cada tipo realizados por cada tipo de residente (R1, R2, R3)\n",
    "# t: tipo de residente\n",
    "# s: tipo de plantão\n",
    "Pts = [[solver.NumVar(0, solver.infinity(), f'P{t}_{s}') for s in range(n_shifts)] for t in range(n_types)]\n",
    "\n",
    "# Somatório da quantidade de plantões de cada tipo realizados por cada residente\n",
    "# r: residente\n",
    "# s: tipo de plantão\n",
    "Rrs = [[solver.NumVar(0, solver.infinity(), f'R{r}_{s}') for s in range(n_shifts)] for r in range(n_res)]"
   ]
  },
  {
   "cell_type": "markdown",
   "metadata": {},
   "source": [
    "# Ligando variáveis de decisão"
   ]
  },
  {
   "cell_type": "code",
   "execution_count": 9,
   "metadata": {},
   "outputs": [],
   "source": [
    "# Carga horária semanal por residente -> Hrw\n",
    "for r, resident in enumerate(residents):\n",
    "    week_counter = 0\n",
    "    for d, weekday in enumerate(weekdays):\n",
    "        if weekday == first_weekday:\n",
    "            ct = solver.Constraint(0, 0, f\"workload - resident {resident['name']} - week {week_counter}\")\n",
    "            ct.SetCoefficient(Hrw[r][week_counter], -1)\n",
    "            week_counter += 1\n",
    "\n",
    "        for s, shift in enumerate(shifts):\n",
    "            ct.SetCoefficient(Xrsd[r][s][d], shift['workload'])"
   ]
  },
  {
   "cell_type": "code",
   "execution_count": 10,
   "metadata": {},
   "outputs": [],
   "source": [
    "# Somatório da carga horária semanal dos residentes por semana -> Stw\n",
    "for w in range(n_weeks):\n",
    "    for t in range(n_types):\n",
    "        res_list = [r for r in residents if r['type'] == res_types[t]]\n",
    "        ct = solver.Constraint(0,0, f\"Workload sum - week {w} - res_type {t}\")\n",
    "        ct.SetCoefficient(Stw[t][w], -1)\n",
    "        for res in res_list:\n",
    "            ct.SetCoefficient(Hrw[res['idx']][w], 1)"
   ]
  },
  {
   "cell_type": "code",
   "execution_count": 11,
   "metadata": {},
   "outputs": [],
   "source": [
    "# Somatório da quantidade de plantões de cada tipo realizados por cada residente -> Rrs\n",
    "for r, resident in enumerate(residents):\n",
    "    for s, shift in enumerate(shifts):\n",
    "        ct = solver.Constraint(0,0, f\"Shift quantity - shift {shift['name']} - resident {resident['name']}\")\n",
    "        ct.SetCoefficient(Rrs[r][s], -1)\n",
    "        for d in range(n_days):\n",
    "            ct.SetCoefficient(Xrsd[r][s][d], 1)"
   ]
  },
  {
   "cell_type": "code",
   "execution_count": 12,
   "metadata": {},
   "outputs": [],
   "source": [
    "# Somatório da quantidade de plantões de cada tipo realizado por cada tipo de residente (R1, R2, R3) -> Pts\n",
    "for s in range(n_shifts):\n",
    "    for t in range(n_types):\n",
    "        ct = solver.Constraint(0, 0, f\"Number of shifts - shift {s} - res_type {t}\")\n",
    "        ct.SetCoefficient(Pts[t][s], -1)\n",
    "        res_list = [r for r in residents if r['type'] == res_types[t]]\n",
    "        for res in res_list:\n",
    "            ct.SetCoefficient(Rrs[res['idx']][s], 1)"
   ]
  },
  {
   "cell_type": "markdown",
   "metadata": {},
   "source": [
    "# Métricas de justiça\n",
    "\n",
    "## 1. Carga horária"
   ]
  },
  {
   "cell_type": "code",
   "execution_count": 13,
   "metadata": {},
   "outputs": [],
   "source": [
    "precision = 0.1\n",
    "\n",
    "for w in range(n_weeks):\n",
    "    for t in range(n_types):\n",
    "        res_list = [r for r in residents if r['type'] == res_types[t]]\n",
    "        N = len(res_list)\n",
    "        for res in res_list:\n",
    "            # Limites superiores\n",
    "            ct_upper = solver.Constraint(-solver.infinity(), 0, f\"Upper limit - week {w} - res_type {t} - resident {res['idx']}: {res['name']}\")\n",
    "            ct_upper.SetCoefficient(Hrw[res['idx']][w], N)\n",
    "            ct_upper.SetCoefficient(Stw[t][w], -(1+precision))\n",
    "\n",
    "            # Limites inferiores\n",
    "            ct_lower = solver.Constraint(0, solver.infinity(), f\"Lower limit - week {w} - res_type {t} - resident {res['idx']}: {res['name']}\")\n",
    "            ct_lower.SetCoefficient(Hrw[res['idx']][w], N)\n",
    "            ct_lower.SetCoefficient(Stw[t][w], -(1-precision))"
   ]
  },
  {
   "cell_type": "markdown",
   "metadata": {},
   "source": [
    "## 2. Tipo de plantão"
   ]
  },
  {
   "cell_type": "code",
   "execution_count": 14,
   "metadata": {},
   "outputs": [],
   "source": [
    "precision = 0.3\n",
    "\n",
    "for shift in shift_eq_list:\n",
    "    for t in range(n_types):\n",
    "        res_list = [r for r in residents if r['type'] == res_types[t]]\n",
    "        N = len(res_list)\n",
    "        for res in res_list:\n",
    "            # Limites superiores\n",
    "            ct_upper = solver.Constraint(-solver.infinity(), 0, f\"Upper limit - shift {shift['name']} - res_type {t} - resident {res['idx']}: {res['name']}\")\n",
    "            ct_upper.SetCoefficient(Pts[t][shift['idx']], -(1+precision))\n",
    "            for d in range(n_days):\n",
    "                ct_upper.SetCoefficient(Xrsd[res['idx']][shift['idx']][d], N)\n",
    "\n",
    "            # Limites inferiores\n",
    "            ct_lower = solver.Constraint(0, solver.infinity(), f\"Lower limit - shift {shift['name']} - res_type {t} - resident {res['idx']}: {res['name']}\")\n",
    "            ct_lower.SetCoefficient(Pts[t][shift['idx']], -(1-precision))\n",
    "            for d in range(n_days):\n",
    "                ct_lower.SetCoefficient(Xrsd[res['idx']][shift['idx']][d], N)"
   ]
  },
  {
   "cell_type": "markdown",
   "metadata": {},
   "source": [
    "# Restrições\n",
    "## 1. Garantir que tenha o número de residentes necessário em cada plantão"
   ]
  },
  {
   "cell_type": "code",
   "execution_count": 15,
   "metadata": {},
   "outputs": [],
   "source": [
    "for s, shift in enumerate(shifts):\n",
    "    for d, weekday in enumerate(weekdays):\n",
    "\n",
    "        # Find the number of residents depending on weekday\n",
    "        num_res = 0\n",
    "        if shift['frequency'][weekday]:\n",
    "            num_res = shift['num_res']\n",
    "\n",
    "        ct = solver.Constraint(num_res, num_res, f\"Day {d + 1} - {num_res} residents in {shift['name']}\")\n",
    "        soma = \"\"\n",
    "        for r in range(n_res):\n",
    "            ct.SetCoefficient(Xrsd[r][s][d], 1)"
   ]
  },
  {
   "cell_type": "markdown",
   "metadata": {},
   "source": [
    "## 2. Garantir que não haja choque de horário na escala"
   ]
  },
  {
   "cell_type": "code",
   "execution_count": 16,
   "metadata": {},
   "outputs": [],
   "source": [
    "for d in range(n_days):\n",
    "    for r, resident in enumerate(residents):\n",
    "        for shift_idx, shift in enumerate(shifts):\n",
    "            ct = solver.Constraint(0, 1, f\"No time overlap in day {d + 1} for resident {resident['name']} - Shift {shift['name']}\")\n",
    "            for s, overlap in enumerate(overlaps[shift_idx]):\n",
    "                ct.SetCoefficient(Xrsd[r][s][d], overlap)"
   ]
  },
  {
   "cell_type": "markdown",
   "metadata": {},
   "source": [
    "## 3. Ambulatório só tem R1"
   ]
  },
  {
   "cell_type": "code",
   "execution_count": 17,
   "metadata": {},
   "outputs": [],
   "source": [
    "s = 5\n",
    "shift = shifts[s]\n",
    "r_mais = [res for res in residents if res['type'] in [\"R2\", \"R3\", \"R1_HFA\", \"R2_HFA\"]]\n",
    "\n",
    "for d in range(n_days):\n",
    "    for resident in r_mais:\n",
    "        r = resident['idx']\n",
    "        ct = solver.Constraint(0, 0, f\"No r+ in ambulatory - day {d + 1} - resident {resident['name']}\")\n",
    "        ct.SetCoefficient(Xrsd[r][s][d], 1)"
   ]
  },
  {
   "cell_type": "markdown",
   "metadata": {},
   "source": [
    "## 4. HRC_dia/noite, HRSam, ENF e CC precisa de um R1 e um R2/R3 por turno"
   ]
  },
  {
   "cell_type": "code",
   "execution_count": 18,
   "metadata": {},
   "outputs": [],
   "source": [
    "for d in range(n_days):\n",
    "    for s, shift in enumerate(shifts[:-1]):\n",
    "        ct = solver.Constraint(0, 0, f\"R1+R2/R3 in day {d + 1} - shift {shift['name']}\")\n",
    "        for r, resident in enumerate(residents):\n",
    "            is_r1 = 1 if resident['type'] in ['R1', 'R1_HFA'] else -1\n",
    "            ct.SetCoefficient(Xrsd[r][s][d], is_r1)"
   ]
  },
  {
   "cell_type": "markdown",
   "metadata": {},
   "source": [
    "## 5. Residentes do HFA só fazem HRC noite -> terça, quinta ou domingo"
   ]
  },
  {
   "cell_type": "code",
   "execution_count": 19,
   "metadata": {},
   "outputs": [],
   "source": [
    "hfa_shift_idx = 1 # HRC noite\n",
    "non_hfa_shifts = shifts[:hfa_shift_idx] + shifts[hfa_shift_idx+1:]\n",
    "hfa_res = [res for res in residents if res['type'] in [\"R1_HFA\", \"R2_HFA\"]]\n",
    "non_hfa_weekdays = [0, 2, 4, 5]\n",
    "\n",
    "for d, weekday in enumerate(weekdays):\n",
    "    if weekday in non_hfa_weekdays:\n",
    "        for shift in non_hfa_shifts:\n",
    "            for res in hfa_res:\n",
    "                ct = solver.Constraint(0, 0, f\"No HFA in shift {shift['name']} - day {d + 1} - resident {res['idx']}: {res['name']}\")\n",
    "                ct.SetCoefficient(Xrsd[res['idx']][shift['idx']][d], 1)"
   ]
  },
  {
   "cell_type": "markdown",
   "metadata": {},
   "source": [
    "## 6. R3 faz HRC_dia ou CC 1x por semana cada"
   ]
  },
  {
   "cell_type": "code",
   "execution_count": 20,
   "metadata": {},
   "outputs": [],
   "source": [
    "r3_shifts = [shifts[i] for i in [0, 3]]\n",
    "r3_list = [res for res in residents if res['type']  == \"R3\"]\n",
    "\n",
    "for resident in r3_list:\n",
    "    r = resident['idx']\n",
    "    for shift in r3_shifts:\n",
    "        s = shift['idx']\n",
    "        week_counter = 0\n",
    "        for d, weekday in enumerate(weekdays):\n",
    "            if weekday == first_weekday:\n",
    "                week_counter += 1\n",
    "                ct = solver.Constraint(1, 1, f\"R3 {resident['name']} working once in shift {shift['name']} - week {week_counter}\")\n",
    "            ct.SetCoefficient(Xrsd[r][s][d], 1)"
   ]
  },
  {
   "cell_type": "markdown",
   "metadata": {},
   "source": [
    "## 7. R3 não faz parte dos demais plantões (HRC_noite, amb, enf, hrsam)"
   ]
  },
  {
   "cell_type": "code",
   "execution_count": 21,
   "metadata": {},
   "outputs": [],
   "source": [
    "not_r3_shifts = [shifts[i] for i in [1, 2, 4, 5]]\n",
    "\n",
    "ct = solver.Constraint(0, 0, f\"R3 residents doesnt work in other shifts\")\n",
    "for resident in r3_list:\n",
    "    r = resident['idx']\n",
    "    for shift in not_r3_shifts:\n",
    "        s = shift['idx']\n",
    "        for d in range(n_days):\n",
    "            ct.SetCoefficient(Xrsd[r][s][d], 1)"
   ]
  },
  {
   "cell_type": "markdown",
   "metadata": {},
   "source": [
    "## 8. O R1 fica a semana toda na enfermaria"
   ]
  },
  {
   "cell_type": "code",
   "execution_count": 22,
   "metadata": {},
   "outputs": [],
   "source": [
    "week_counter = 0\n",
    "s = 2  # ENF\n",
    "\n",
    "for d, weekday in enumerate(weekdays):\n",
    "    if weekday == first_weekday:\n",
    "        resident = enf_list[week_counter]\n",
    "        r = resident['idx']\n",
    "        week_counter += 1\n",
    "    ct = solver.Constraint(1, 1, f\"R1 {resident['name']} working on ENF - week {week_counter + 1} - day {d}\")\n",
    "    ct.SetCoefficient(Xrsd[r][s][d], 1)"
   ]
  },
  {
   "cell_type": "markdown",
   "metadata": {},
   "source": [
    "## 9. Máximo 24 horas seguidas de trabalho"
   ]
  },
  {
   "cell_type": "code",
   "execution_count": 23,
   "metadata": {},
   "outputs": [],
   "source": [
    "# como implementar?"
   ]
  },
  {
   "cell_type": "markdown",
   "metadata": {},
   "source": [
    "## Função objetivo"
   ]
  },
  {
   "cell_type": "code",
   "execution_count": 24,
   "metadata": {},
   "outputs": [],
   "source": [
    "objective = solver.Objective()\n",
    "\n",
    "for t in range(n_types):\n",
    "    for w in range(n_weeks):\n",
    "        objective.SetCoefficient(Stw[t][w], 1)\n",
    "\n",
    "objective.SetMinimization()"
   ]
  },
  {
   "cell_type": "code",
   "execution_count": 25,
   "metadata": {},
   "outputs": [
    {
     "data": {
      "text/plain": [
       "3735"
      ]
     },
     "execution_count": 25,
     "metadata": {},
     "output_type": "execute_result"
    }
   ],
   "source": [
    "solver.NumConstraints()"
   ]
  },
  {
   "cell_type": "code",
   "execution_count": null,
   "metadata": {},
   "outputs": [],
   "source": [
    "status = solver.Solve()\n",
    "\n",
    "if status == pywraplp.Solver.OPTIMAL:\n",
    "    print('OTIMA')"
   ]
  },
  {
   "cell_type": "code",
   "execution_count": null,
   "metadata": {},
   "outputs": [],
   "source": [
    "if status == pywraplp.Solver.OPTIMAL:\n",
    "    r = 10\n",
    "    resident = residents[r]\n",
    "\n",
    "    # for r, resident in enumerate(residents):\n",
    "    print(resident['name'])\n",
    "\n",
    "    for d in range(n_days):\n",
    "        for s, shift in enumerate(shifts[:-1]):\n",
    "            if round(Xrsd[r][s][d].solution_value(), 0):\n",
    "                print(f\"DIA {d + 1} - {shift['name']}\")"
   ]
  },
  {
   "cell_type": "code",
   "execution_count": null,
   "metadata": {},
   "outputs": [],
   "source": [
    "if status == pywraplp.Solver.OPTIMAL:\n",
    "    for r, resident in enumerate(residents):\n",
    "        print(f\"\\nRESIDENTE {resident['name']}\")\n",
    "        for w in range(n_weeks):\n",
    "            print(f\"Semana {w + 1}: {round(Hrw[r][w].solution_value(), 0)}\")"
   ]
  },
  {
   "cell_type": "code",
   "execution_count": null,
   "metadata": {},
   "outputs": [],
   "source": [
    "if status == pywraplp.Solver.OPTIMAL:\n",
    "    schedule = []\n",
    "\n",
    "    for d, weekday in enumerate(weekdays):\n",
    "        day_schedule = []\n",
    "        for s, shift in enumerate(shifts):\n",
    "            res_list = []\n",
    "            for r, resident in enumerate(residents):\n",
    "                if round(Xrsd[r][s][d].solution_value(), 0):\n",
    "                    res_list.append(resident['name'])\n",
    "            day_schedule.append(', '.join(res_list))\n",
    "        schedule.append(day_schedule)"
   ]
  },
  {
   "cell_type": "code",
   "execution_count": null,
   "metadata": {},
   "outputs": [],
   "source": [
    "if status == pywraplp.Solver.OPTIMAL:\n",
    "    cols = [s['name'] for s in shifts]\n",
    "    idx = [f'{d + 1}/{month_idx}' for d in range(n_days)]\n",
    "\n",
    "\n",
    "pd.DataFrame(schedule, columns=cols, index=idx)"
   ]
  },
  {
   "cell_type": "code",
   "execution_count": null,
   "metadata": {},
   "outputs": [],
   "source": [
    "if status == pywraplp.Solver.OPTIMAL:\n",
    "    for s, shift in enumerate(shifts):\n",
    "        print(f\"\\n\\nPLANTÃO {shift['name']}\")\n",
    "        for r, resident in enumerate(residents):\n",
    "            soma = 0\n",
    "            for d, weekday in enumerate(weekdays):\n",
    "                soma += Xrsd[r][s][d].solution_value()\n",
    "            print(f\"{resident['name']}: {round(soma, 0)}\")"
   ]
  },
  {
   "cell_type": "code",
   "execution_count": null,
   "metadata": {},
   "outputs": [],
   "source": []
  }
 ],
 "metadata": {
  "interpreter": {
   "hash": "c9432c460735b2b6a49e894b88ff908a5641efb5f0bdd70cce83ccf0f6472aa1"
  },
  "kernelspec": {
   "display_name": "Python 3.8.5 64-bit ('venv': venv)",
   "name": "python3"
  },
  "language_info": {
   "codemirror_mode": {
    "name": "ipython",
    "version": 3
   },
   "file_extension": ".py",
   "mimetype": "text/x-python",
   "name": "python",
   "nbconvert_exporter": "python",
   "pygments_lexer": "ipython3",
   "version": "3.8.5"
  },
  "orig_nbformat": 4
 },
 "nbformat": 4,
 "nbformat_minor": 2
}
